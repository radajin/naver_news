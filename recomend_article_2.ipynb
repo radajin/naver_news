{
 "cells": [
  {
   "cell_type": "markdown",
   "metadata": {},
   "source": [
    "# 사용자 댓글을 이용한 네이버 기사 추천\n",
    "\n",
    "### 가정 : 사용자 댓글을 분석하면 그 사용자에게 맞는 기사를 추천이 가능할 것이다.\n",
    "\n",
    "- Komoran 형태소 분석기를 이용해서 기사와 댓글내용의 고유명사와 일반명사만 추출 하여 vectorized 한다.\n",
    "- cos 거리 측정을 이용하여 댓글과 각 기사의 거리를 측정하여 가장 가까운 기사를 추천한다."
   ]
  },
  {
   "cell_type": "markdown",
   "metadata": {},
   "source": [
    "##### Import Package"
   ]
  },
  {
   "cell_type": "code",
   "execution_count": 1,
   "metadata": {
    "collapsed": true
   },
   "outputs": [],
   "source": [
    "from sklearn.feature_extraction.text import CountVectorizer, TfidfVectorizer, HashingVectorizer\n",
    "import konlpy.tag \n",
    "import pandas as pd\n",
    "import scipy as sp\n",
    "from scipy import spatial\n",
    "import operator\n",
    "import numpy as np"
   ]
  },
  {
   "cell_type": "markdown",
   "metadata": {},
   "source": [
    "##### Get Article & Comment"
   ]
  },
  {
   "cell_type": "code",
   "execution_count": 2,
   "metadata": {
    "collapsed": false
   },
   "outputs": [],
   "source": [
    "def shuffle_df(df):\n",
    "    \"\"\"shuffle pandas dataframe\"\"\"\n",
    "    \n",
    "    return df.iloc[np.random.permutation(len(df))].reset_index(drop=True) \n",
    "\n",
    "def get_datas(date, comment=1):\n",
    "    \"\"\" get naver news articles and comments\"\"\"\n",
    "    \n",
    "    article_df = pd.read_csv(\"../data/news/\" + date + \".csv\")\n",
    "#     article_df = shuffle_df(article_df)\n",
    "    comment_df = pd.read_csv(\"../data/comment/comment\"+str(comment)+\".csv\")\n",
    "    \n",
    "    return article_df, comment_df"
   ]
  },
  {
   "cell_type": "markdown",
   "metadata": {},
   "source": [
    "#####  Morpheme Analytics"
   ]
  },
  {
   "cell_type": "code",
   "execution_count": 3,
   "metadata": {
    "collapsed": false
   },
   "outputs": [],
   "source": [
    "def make_document_morpheme(texts):\n",
    "    \"\"\"make documents list after morphological\"\"\"\n",
    "    \n",
    "    documents = []\n",
    "    \n",
    "    komoran = konlpy.tag.Komoran()\n",
    "\n",
    "    for text in texts:\n",
    "        obj = line2obj(komoran.pos(text, flatten=False))\n",
    "        documents.append(obj)\n",
    "        \n",
    "    return documents\n",
    "\n",
    "def line2obj(lines):\n",
    "    \"\"\" make keywords dictionary include only (NNP, NNG)\"\"\"\n",
    "    \n",
    "    obj = {}\n",
    "    \n",
    "    for line in lines:\n",
    "        for keyword in line:\n",
    "            if len(keyword[0]) > 1 and ( keyword[1] == \"NNP\" or keyword[1] == \"NNG\" ) :\n",
    "                key = keyword[0]\n",
    "                if key in obj:\n",
    "                    obj[key] += 1\n",
    "                else:\n",
    "                    obj[key] = 1\n",
    "                    \n",
    "    return obj"
   ]
  },
  {
   "cell_type": "code",
   "execution_count": 4,
   "metadata": {
    "collapsed": true
   },
   "outputs": [],
   "source": [
    "def gen_text_documents(documents):\n",
    "    \n",
    "    text_documents = []\n",
    "    \n",
    "    for document in documents:\n",
    "        \n",
    "        text_words = []\n",
    "        \n",
    "        for word, count in document.items():\n",
    "            text_words.extend([word] * count)\n",
    "            \n",
    "        text_document = \" \".join(text_words)\n",
    "        text_documents.append(text_document)\n",
    "        \n",
    "    return text_documents        "
   ]
  },
  {
   "cell_type": "code",
   "execution_count": 5,
   "metadata": {
    "collapsed": false
   },
   "outputs": [],
   "source": [
    "def calc_euc_dist(v1, v2):\n",
    "    \"\"\" euclidean distance \"\"\"\n",
    "    \n",
    "    delta = v1 - v2\n",
    "    dist = sp.linalg.norm(delta.toarray())\n",
    "    return dist\n",
    "\n",
    "def calc_cos_dist(v1, v2):\n",
    "    \"\"\" cosin distance \"\"\"\n",
    "#     v1 = v1.toarray()\n",
    "#     v2 = v2.toarray()\n",
    "#     dist = 1.0 - np.dot(v1, v2) / (np.linalg.norm(v1) * np.linalg.norm(v2))\n",
    "    dist = spatial.distance.cosine(v1.toarray(), v2.toarray())\n",
    "    \n",
    "    return dist\n",
    "\n",
    "def get_euc_dists(vectorized, num_docs, comm=\"euc\"):\n",
    "    \n",
    "    dists = []\n",
    "    \n",
    "    for idx in range(num_docs-1):\n",
    "            \n",
    "        if comm == \"euc\":\n",
    "            dist = calc_euc_dist(vectorized.getrow(num_docs-1), vectorized.getrow(idx))\n",
    "            dists.append((num_docs-1, idx, dist))\n",
    "            \n",
    "        else :\n",
    "            dist = calc_cos_dist(vectorized.getrow(num_docs-1), vectorized.getrow(idx))\n",
    "            dists.append((num_docs-1, idx, dist))\n",
    "        \n",
    "    return dists\n",
    "\n",
    "def sort_dists(dists):\n",
    "    result_list = []\n",
    "    for i, j, dist in sorted(dists, key=operator.itemgetter(2)):\n",
    "        result_list.append((i, j, dist))\n",
    "    return result_list"
   ]
  },
  {
   "cell_type": "markdown",
   "metadata": {},
   "source": [
    "##### Text Preprocessing"
   ]
  },
  {
   "cell_type": "code",
   "execution_count": 6,
   "metadata": {
    "collapsed": false
   },
   "outputs": [
    {
     "data": {
      "text/plain": [
       "(2241, 15)"
      ]
     },
     "execution_count": 6,
     "metadata": {},
     "output_type": "execute_result"
    }
   ],
   "source": [
    "# get data\n",
    "article_df, comment_df = get_datas(\"2016-07-06\")\n",
    "len(article_df), len(comment_df)"
   ]
  },
  {
   "cell_type": "code",
   "execution_count": 57,
   "metadata": {
    "collapsed": false
   },
   "outputs": [
    {
     "data": {
      "text/plain": [
       "'영화 `로봇소리`많이 기대하고 있습니다. 폭풍 연기력을 보여주실 이성민 배우분의 연기력을 기대해봅니다. 우선 오늘 저녁8부터는 다시 항공편 운항 재개를 한다고 하니 조금만 더 기다리시면 될 것 같아요. 제주도 관계자분들도 힘내세요! 영화 `로봇소리`많이 기대하고 있습니다. 폭풍 연기력을 보여주실 이성민 배우분의 연기력을 기대해봅니다. 아울러 대구 지하철 참사를 다시 생각하게 해주셔서 감사합니다. 제주도를 비롯해서 다른 지역 충청이남서해안 지역분들과 전라도 부근 주민들도 힘내세요! 눈 때문에 고생이 많으세요! 그래도 자수를 했다니 다행이네요, 피해자분들도 마음 잘 추수리셔서 화이팅하셨으면 좋겠습니다. 경찰분들도 바쁘신건 알지만 힘 내주세요! 충북 제천지역도 다른지역과 같이 많이 추운가 봅니다ㅠ 농민분들이 엄청 고생하시는 것 같습니다. 조금만 있으면 날씨가 풀릴 것 같으니 힘내세요! 평창올림픽의 성공을 위하여 관련 관계자분들이 스페인 마드리드까지 가서 신다고 하는데 감사합니다. 평창올림픽의 성공적인 개최를 기원합니다. KTX 지연, 제주공항 운항 지연에 뒤이은 여러번의 동파사고까지, 조금만 지나면 날시가 풀릴테니 힘내세요!! 모쪼록 몸에 해로운 담배입니다. 다른 나라의 광고가 어떻든 대한민국 국민의 건강 증진을 위하여 금연을 기원하시는 분들은 금연에 성공하시길 바라겠습니다. 어린 아이들이 이렇게 모범을 보여주니 너무 고맙습니다. 화단정리에 노인들께 식사를 대접하기까지 너무 마음이 예쁩니다. 이렇게 노인장기요양서비스가 통합(통일)된다면 노인분들이 이용하시기에도 간편하고 좋은 서비스활동이 될 것 같습니다. 미래를 위해 방학중에 대학 공동 진로진학 박람회까지 가서 자신의 미래를 설꼐하는것을 보면 너무 아름다운 것 같습니다. 이 추운 날씨에도 고생해주시는 장병분들을 보면 감사한 마음 뿐입니다. 급식을 비롯해서 여러 여건들이 개선되길 희망합니다! 이렇게 추운날씨에 남들을 위해  쌀 1000kg을 기부해주신 대한불교조계종 문수사(주지 스님 혜안)께 너무 감사합니다! 이렇게 중소기업과 소상공인을 위한 정책들이 많이 생겨서 모두가 행복한 대한민국이 되면 좋겠습니다. 관련 행정적 지원을 해주신 구청장님 감사합니다!'"
      ]
     },
     "execution_count": 57,
     "metadata": {},
     "output_type": "execute_result"
    }
   ],
   "source": [
    "# make documents\n",
    "comment_str = comment_df[\"content\"][:].str.cat(sep=' ')\n",
    "comment_str"
   ]
  },
  {
   "cell_type": "code",
   "execution_count": 59,
   "metadata": {
    "collapsed": false
   },
   "outputs": [
    {
     "data": {
      "text/plain": [
       "(2000    [뉴스데스크]◀ 앵커 ▶옷차림이 가벼워지면서 여성들이 신경 쓰는 것 중 하나가 제모...\n",
       " 2001    [헤럴드경제=김진원ㆍ유오상 기자] 검찰이 유사수신 혐의로 수사를 받는 밸류인베스트코...\n",
       " 2002    <앵커 멘트> 북한은 대내외적으로 잔뜩 전쟁 분위기를 띄우고 있습니다.   유치원생...\n",
       " 2003    석탄화력발전 대책회의 모두발언    (서울=연합뉴스) 정하종 기자 = 주형환 산업통...\n",
       " 2004    <앵커>초고층 건물이 밀집해 있는 부산에서는 지진에 놀란 시민들의 신고가 폭주했습니...\n",
       " Name: content, dtype: object,\n",
       " 2235    【서울=뉴시스】유자비 기자 = 독일 폭스바겐 본사 고위 임원이 최근 한국을 방문한 ...\n",
       " 2236    틀니와 임플란트이달부터 65세 이상에 건보 혜택임플란트, 평생 2개까지 적용돼치아 ...\n",
       " 2237    숙련된 인력과 값싼 임금으로 지난 10여년 간 세계 정보기술(IT) 아웃소싱 강자로...\n",
       " 2238    <앵커>최근 들어서 변호사가 그야말로 쏟아져 나오면서 대표적인 고소득 전문직이라는 ...\n",
       " 2239    【서울=뉴시스】전진환 기자 = 박근혜 대통령이 6일 오후 2016 리우하계올림픽 D...\n",
       " Name: content, dtype: object)"
      ]
     },
     "execution_count": 59,
     "metadata": {},
     "output_type": "execute_result"
    }
   ],
   "source": [
    "article_series = article_df[\"content\"][2000:2240]\n",
    "article_series[:5], article_series[-5:]"
   ]
  },
  {
   "cell_type": "code",
   "execution_count": 60,
   "metadata": {
    "collapsed": false
   },
   "outputs": [
    {
     "data": {
      "text/plain": [
       "(0    [뉴스데스크]◀ 앵커 ▶옷차림이 가벼워지면서 여성들이 신경 쓰는 것 중 하나가 제모...\n",
       " 1    [헤럴드경제=김진원ㆍ유오상 기자] 검찰이 유사수신 혐의로 수사를 받는 밸류인베스트코...\n",
       " 2    <앵커 멘트> 북한은 대내외적으로 잔뜩 전쟁 분위기를 띄우고 있습니다.   유치원생...\n",
       " 3    석탄화력발전 대책회의 모두발언    (서울=연합뉴스) 정하종 기자 = 주형환 산업통...\n",
       " 4    <앵커>초고층 건물이 밀집해 있는 부산에서는 지진에 놀란 시민들의 신고가 폭주했습니...\n",
       " dtype: object, 236    틀니와 임플란트이달부터 65세 이상에 건보 혜택임플란트, 평생 2개까지 적용돼치아 ...\n",
       " 237    숙련된 인력과 값싼 임금으로 지난 10여년 간 세계 정보기술(IT) 아웃소싱 강자로...\n",
       " 238    <앵커>최근 들어서 변호사가 그야말로 쏟아져 나오면서 대표적인 고소득 전문직이라는 ...\n",
       " 239    【서울=뉴시스】전진환 기자 = 박근혜 대통령이 6일 오후 2016 리우하계올림픽 D...\n",
       " 240    영화 `로봇소리`많이 기대하고 있습니다. 폭풍 연기력을 보여주실 이성민 배우분의 연...\n",
       " dtype: object)"
      ]
     },
     "execution_count": 60,
     "metadata": {},
     "output_type": "execute_result"
    }
   ],
   "source": [
    "article_series = article_series.append(pd.Series([comment_str])).reset_index(drop=True)\n",
    "article_series[:5], article_series[-5:]"
   ]
  },
  {
   "cell_type": "code",
   "execution_count": 61,
   "metadata": {
    "collapsed": false
   },
   "outputs": [
    {
     "name": "stdout",
     "output_type": "stream",
     "text": [
      "CPU times: user 1min 47s, sys: 516 ms, total: 1min 47s\n",
      "Wall time: 31.9 s\n"
     ]
    }
   ],
   "source": [
    "%time article_documents = make_document_morpheme(article_series)"
   ]
  },
  {
   "cell_type": "code",
   "execution_count": 69,
   "metadata": {
    "collapsed": false
   },
   "outputs": [
    {
     "data": {
      "text/plain": [
       "'요즘 금지 구매 사용 병원 화상 판매 예전 인터넷 의료 경우 경우 가정 저작권 모낭 시력 피부 피부 피부 피부 피부 피부 보습제 염증 색소 색소 배포 나중 신경 허가 진정 노출 노출 노출 노출 식품의약품안전처 은주 흡수 햇볕 수영복 앵커 털이 털이 제모 제모 제모 제모 제모 제모 방식 최소 표시 휴가철 리포트 중심 동안 설명 확인 보상 시술 기자 기자 손상 주의 침착 침착 모기 모기 모기 모기 옷차림 MBC뉴스 복제 우려 피해 주위 뉴스데스크 전문의 번호 무단 원리 백화점 여름 여름 팔다리 팔다리 자외선 레이저 레이저 레이저 레이저 레이저 레이저 레이저 레이저 기기 햇빛 본인 당부 여성 다음 영향'"
      ]
     },
     "execution_count": 69,
     "metadata": {},
     "output_type": "execute_result"
    }
   ],
   "source": [
    "# make gen documents\n",
    "gen_articles = gen_text_documents(article_documents)\n",
    "gen_articles[0]"
   ]
  },
  {
   "cell_type": "markdown",
   "metadata": {},
   "source": [
    "##### Vectorizer"
   ]
  },
  {
   "cell_type": "code",
   "execution_count": 63,
   "metadata": {
    "collapsed": false
   },
   "outputs": [
    {
     "name": "stdout",
     "output_type": "stream",
     "text": [
      "the number of input documents : 241\n",
      "the number of words : 8172\n"
     ]
    }
   ],
   "source": [
    "# vectorizer = CountVectorizer()\n",
    "# vectorizer = HashingVectorizer()\n",
    "vectorizer = TfidfVectorizer()\n",
    "\n",
    "vectorized = vectorizer.fit_transform(gen_articles)\n",
    "num_docs, num_features =  vectorized.shape\n",
    "feature_names = vectorizer.get_feature_names()\n",
    "\n",
    "print(\"the number of input documents : {}\".format(num_docs))\n",
    "print(\"the number of words : {}\".format(num_features))\n",
    "result_df = pd.DataFrame(vectorized.toarray(), columns=feature_names)"
   ]
  },
  {
   "cell_type": "markdown",
   "metadata": {},
   "source": [
    "##### Measurement Distance between comment and document"
   ]
  },
  {
   "cell_type": "code",
   "execution_count": 64,
   "metadata": {
    "collapsed": false
   },
   "outputs": [
    {
     "data": {
      "text/plain": [
       "([(240, 9, 1.3116234460703404),\n",
       "  (240, 138, 1.3530893640786008),\n",
       "  (240, 108, 1.3538578136087327),\n",
       "  (240, 215, 1.3576447694648097),\n",
       "  (240, 103, 1.3673355836344543)],\n",
       " [(240, 154, 1.4142135623730951),\n",
       "  (240, 161, 1.4142135623730951),\n",
       "  (240, 173, 1.4142135623730951),\n",
       "  (240, 233, 1.4142135623730954),\n",
       "  (240, 50, 1.4142135623730958)])"
      ]
     },
     "execution_count": 64,
     "metadata": {},
     "output_type": "execute_result"
    }
   ],
   "source": [
    "dists = get_euc_dists(vectorized, num_docs)\n",
    "result = sort_dists(dists)\n",
    "result[:5], result[-5:]"
   ]
  },
  {
   "cell_type": "code",
   "execution_count": 65,
   "metadata": {
    "collapsed": false
   },
   "outputs": [
    {
     "data": {
      "text/plain": [
       "([(240, 9, 0.86017803214071742),\n",
       "  (240, 138, 0.91542541359131624),\n",
       "  (240, 108, 0.91646548973470854),\n",
       "  (240, 215, 0.92159966002757809),\n",
       "  (240, 103, 0.93480329913648685)],\n",
       " [(240, 84, 1.0),\n",
       "  (240, 154, 1.0),\n",
       "  (240, 161, 1.0),\n",
       "  (240, 173, 1.0),\n",
       "  (240, 233, 1.0)])"
      ]
     },
     "execution_count": 65,
     "metadata": {},
     "output_type": "execute_result"
    }
   ],
   "source": [
    "dists = get_euc_dists(vectorized, num_docs, \"cos\")\n",
    "result = sort_dists(dists)\n",
    "result[:5], result[-5:]"
   ]
  },
  {
   "cell_type": "code",
   "execution_count": 66,
   "metadata": {
    "collapsed": false
   },
   "outputs": [
    {
     "name": "stdout",
     "output_type": "stream",
     "text": [
      "영화 `로봇소리`많이 기대하고 있습니다. 폭풍 연기력을 보여주실 이성민 배우분의 연기력을 기대해봅니다. 우선 오늘 저녁8부터는 다시 항공편 운항 재개를 한다고 하니 조금만 더 기다리시면 될 것 같아요. 제주도 관계자분들도 힘내세요! 영화 `로봇소리`많이 기대하고 있습니다. 폭풍 연기력을 보여주실 이성민 배우분의 연기력을 기대해봅니다. 아울러 대구 지하철 참사를 다시 생각하게 해주셔서 감사합니다. 제주도를 비롯해서 다른 지역 충청이남서해안 지역분들과 전라도 부근 주민들도 힘내세요! 눈 때문에 고생이 많으세요! 그래도 자수를 했다니 다행이네요, 피해자분들도 마음 잘 추수리셔서 화이팅하셨으면 좋겠습니다. 경찰분들도 바쁘신건 알지만 힘 내주세요! 충북 제천지역도 다른지역과 같이 많이 추운가 봅니다ㅠ 농민분들이 엄청 고생하시는 것 같습니다. 조금만 있으면 날씨가 풀릴 것 같으니 힘내세요! 평창올림픽의 성공을 위하여 관련 관계자분들이 스페인 마드리드까지 가서 신다고 하는데 감사합니다. 평창올림픽의 성공적인 개최를 기원합니다. KTX 지연, 제주공항 운항 지연에 뒤이은 여러번의 동파사고까지, 조금만 지나면 날시가 풀릴테니 힘내세요!! 모쪼록 몸에 해로운 담배입니다. 다른 나라의 광고가 어떻든 대한민국 국민의 건강 증진을 위하여 금연을 기원하시는 분들은 금연에 성공하시길 바라겠습니다. 어린 아이들이 이렇게 모범을 보여주니 너무 고맙습니다. 화단정리에 노인들께 식사를 대접하기까지 너무 마음이 예쁩니다. 이렇게 노인장기요양서비스가 통합(통일)된다면 노인분들이 이용하시기에도 간편하고 좋은 서비스활동이 될 것 같습니다. 미래를 위해 방학중에 대학 공동 진로진학 박람회까지 가서 자신의 미래를 설꼐하는것을 보면 너무 아름다운 것 같습니다. 이 추운 날씨에도 고생해주시는 장병분들을 보면 감사한 마음 뿐입니다. 급식을 비롯해서 여러 여건들이 개선되길 희망합니다! 이렇게 추운날씨에 남들을 위해  쌀 1000kg을 기부해주신 대한불교조계종 문수사(주지 스님 혜안)께 너무 감사합니다! 이렇게 중소기업과 소상공인을 위한 정책들이 많이 생겨서 모두가 행복한 대한민국이 되면 좋겠습니다. 관련 행정적 지원을 해주신 구청장님 감사합니다!\n"
     ]
    }
   ],
   "source": [
    "# comment\n",
    "print(comment_str)"
   ]
  },
  {
   "cell_type": "markdown",
   "metadata": {},
   "source": [
    "##### Recomend Article"
   ]
  },
  {
   "cell_type": "code",
   "execution_count": 67,
   "metadata": {
    "collapsed": false
   },
   "outputs": [
    {
     "name": "stdout",
     "output_type": "stream",
     "text": [
      "9\n",
      "로사 코른펠드-마테 [유엔 홈페이지 캡처]노인이 브렉시트 희생양…인권 전문가 \"민주사회 근본 위협\" 우려      (서울=연합뉴스) 한미희 기자 = 영국에서 유럽연합(EU) 탈퇴(브렉시트) 국민투표 이후 노인을 향한 차별적인 공격이 난무해 유엔이 경계하고 나섰다.     유엔인권최고대표사무소(OHCHR)가 임명한 노인 인권 전문가인 로사 코른펠드-마테는 5일(현지시간) 유엔 홈페이지를 통해 \"유럽의 많은 언론과 소셜미디어가 노인을 브렉시트의 희생양으로 삼고 이들의 투표권을 제한해야 한다고 요구하고 있다\"고 전했다.     그러면서 \"나이를 근거로 특정 권리의 행사를 제한하는 것은 국제 인권법상 용납할 수 없는 일\"이라고 강조했다. 지난달 23일 브렉시트 투표소로 향하는 여성 노인 [AFP=연합뉴스]    지난달 23일 치러진 영국의 브렉시트 국민투표에서 65세 이상 노인들은 대거 탈퇴를 지지해 잔류를 원했던 젊은 EU 세대와의 극명한 격차를 보였다.     투표 결과에 대해 젊은이들은 '노인들이 우리의 미래를 망쳤다'고 반발하며 세대 갈등을 드러냈다.     코른펠드-마테는 \"한 잡지는 일정 연령 이상이 되면 노인들의 운전면허를 박탈하듯 투표권을 빼앗아야 한다고 주장하고 있다\"고 단적인 사례를 소개했다.     그는 \"나이가 들었다는 이유로 그 사람의 정치적 권한에 이의를 제기해서는 안 된다\"며 \"공적 영역과 의사 결정 과정에서 모든 개인의 동등한 권리를 존중하는 것은 민주사회의 근본\"이라고 말했다.     그러면서 \"전 세계의 사회가 고령화하면서 세대 간 결속과 노인의 가치 있는 기여에 대한 사회적 이해를 높이기 위해 투자가 필요하다\"고 목소리를 높였다. 제복입은 노인들의 투표행진(AFP=연합뉴스)     mihee@yna.co.kr\n"
     ]
    }
   ],
   "source": [
    "comment, rank_idx, distance = zip(*result)\n",
    "idx = rank_idx[0]\n",
    "print(idx)\n",
    "print(article_series[idx].split(\"▶\")[0])"
   ]
  },
  {
   "cell_type": "code",
   "execution_count": 68,
   "metadata": {
    "collapsed": false
   },
   "outputs": [
    {
     "name": "stdout",
     "output_type": "stream",
     "text": [
      "【서울=뉴시스】전진환 기자 = 박근혜 대통령이 6일 오후 2016 리우하계올림픽 D-30 선수단 격려를 위해 서울 노원구 태릉선수촌을 찾아, 여자핸드볼 국가대표팀선수들을 격려하고 있다. 2016.07.06.   amin2@newsis.com태릉선수촌 방문…리우올림픽 선수단 격려  \"질병·테러 철저히 대비해 선수단 안전에 만전 기해야\"【서울=뉴시스】김형섭 기자 = 박근혜 대통령은 6일 브라질 리우하계올림픽과 관련해 \"저도 여기서 태극전사들이 선전하도록 열심히 응원하겠다\"고 말했다. 박 대통령은 브라질 리우하계올림픽을 30일 앞둔 이날 오후 국가대표 선수단 및 지도자 격려차 서울 노원구 태릉선수촌을 방문한 자리에서 \"우리 선수들이 최상의 컨디션으로 경기에 임할 수 있도록 끝까지 잘 챙겨주시고 판정시비라든지 현지에서 힘든 일들로 (고생을 겪기 않기를) 바라겠다\"면서 이같이 밝혔다. 박 대통령의 태릉선수촌 방문은 2014년 8월25일 인천아시안게임 국가대표 선수단 격려를 위한 방문 이후 약 2년 만이다. 특히 박 대통령은 이날 최종삼 태릉선수촌장으로부터 리우올림픽 준비 상황을 보고 받은 뒤 \"올림픽 개최지인 브라질의 열악한 환경 등을 고려해 선수 컨디션 조절 및 사전 적응훈련 등 대회 준비에 최선을 다해달라\"며 \"질병, 테러 등에도 철저히 대비해 선수단 안전에 만전을 기해달라\"고 강조했다고 청와대가 전했다. 이어 박 대통령은 개선관과 월계관을 찾아 태권도, 펜싱, 체조, 역도, 레슬링, 핸드볼, 유도 종목 선수들의 훈련을 참관했다. 박 대통령은 선수들을 직접 만나 격려하고 그 동안 흘린 땀방울이 결실을 맺을 수 있도록 리우하계올림픽에서 최선을 다해 줄 것을 주문했다.【서울=뉴시스】전진환 기자 = 박근혜 대통령이 6일 오후 2016 리우하계올림픽 D-30 선수단 격려를 위해 서울 노원구 태릉선수촌을 찾아, 체조대표팀선수들과 기념촬영을 하고 있다. 2016.07.06.   amin2@newsis.com 태권도장을 방문한 자리에서 박 대통령은 \"순방으로 여러 나라를 가보면 모든 국가에서 태권도의 인기가 높다. 열심히 하다보니 실력이 상향평준화하는 추세인 것 같다. 그만큼 인기 있는 것은 좋은데 경쟁이 치열해지고 있다\"며 태권도 신흥 강국들의 도전에 잘 대비해 종주국의 자부심을 지켜줄 것을 당부했다. 펜싱 선수단에게는 \"런던올림픽에서 최고 성적을 거두고도 판정시비로 국민들도 아쉬워하고 안타까웠다\"며 4년 전 오심으로 결승 진출이 좌절됐던 신아람 선수 사태를 거론했다. 박 대통령은 이어 \"펜싱이 유럽 등에 비해 짧은 역사임에도 불구하고 굉장히 빠르게 실력이 늘은 것으로 생각된다\"며 \"이번에는 지난번에 아쉬웠던 것을 털어내기 위해서도 여러분들 마음의 각오가 단단하고 분발하실 것으로 생각한다\"고 격려했다. 메달이 없었던 남자 사브르 개인전도 언급하며 \"좋은 목표를 달성해 우리나라 펜싱에 새 역사를 쓰기를 응원한다\"고 했다. 또 역도 선수들이 땀을 흘리고 있는 훈련장에 들어선 박 대통령은 \"여기 들어오면서 파스 냄새가 많이 났다\"며 \"우리 선수들이 훈련 과정에서 다치기도 하고 고생을 많이 하는데 그런 것을 다 극복하면서 열심히 하는 모습을 보니까 마음에 감동이 크다\"고 소감을 말했다. 여자 핸드볼 선수단을 만난 자리에서는 2004년 아테네올림픽 당시 은메달을 딴 여자 핸드볼 대표팀의 눈물겨운 투혼을 담은 영화 '우리 생애 최고의 순간(우생순)'을 언급하며 선수들을 응원했다. 박 대통령은 \"유럽 선수들은 원래 타고난 체격이 있어서 우리는 두 배로 힘이 더 많이 들을 텐데도 지난번 아테네 올림픽에서 좋은 성적을 거뒀다\"며 \"국민들 모두가 아쉬워하면서도 오히려 핸드볼에 대한 인기가 많아져 영화까지 나와 '우생순 신화'가 생겼다\"고 말했다. 이어 \"훈련 자체가 고난이지만 그런 아픔을 겪으면서 다시 도전한다는 게 굉장히 국민들한테 많은 감동을 줄 수 있는 스토리\"라며 \"이번에 우생순의 신화를 반드시 (이룰 수 있기를) 기원하겠다\"고 전했다. 아테네올림픽 당시 연장전 끝에 준우승에 머문 한을 풀기 위해 44세의 나이로 대표팀에 합류한 골키퍼 오영란 선수에게는 \"그때 못 이룬 꿈을 이번에는 반드시 이루겠다는 각오로 출전하신 것으로 알고 있다. 이번에는 그때의 아쉬움도 다 풀어버리고, 국민들한테 두 배의 기쁨을 안겨줄 수 있도록 좋은 성적을 거두시리라 믿는다\"고 격려했다.【서울=뉴시스】전진환 기자 = 박근혜 대통령이 6일 오후 2016 리우하계올림픽 D-30 선수단 격려를 위해 서울 노원구 태릉선수촌을 찾아, 김종덕 문화체육관광부 장관, 최종삼(오른쪽) 태릉선수총장과 훈련장을 돌아보고 있다. 2016.07.06.   amin2@newsis.com 오영란 선수는 여자 핸드볼팀의 사인이 들어간 공을 박 대통령에게 선물했다. 박 대통령은 행사에 앞서 태릉선수촌 방명록에 '대한민국의 기상, 국가대표 선수단의 선전으로 우리나라를 빛내주시기 바란다'고 적었다. 이날 행사에는 김정행·강영중 대한체육회 공동회장, 정몽규 리우하계올림픽 선수단장, 조양호 대한탁구협회장, 정의선 대한양궁협회장, 최태원 대한핸드볼협회장, 김종덕 문화체육관광부 장관 등이 자리를 함께 했다. 박 대통령은 정몽규 선수단장에게 \"한국에서 국민들과 열심히 응원할테니 좋은 결과를 갖고 건강하게 잘 다녀오시기 바란다\"고 당부했다. 한편 우리나라는 이번 리우올림픽에서 4개 대회 연속 10위 이내의 성적을 목표로 하고 있다. 오는 19일 결단식을 갖고 27일에는 선수단 본진이 리우로 출발할 예정이다. ephites@newsis.com뉴시스 뉴스, 네이버 뉴스 스탠드에서도 만나세요뉴시스 SNS  [페이스북]   [트위터]<저작권자ⓒ 공감언론 뉴시스통신사. 무단전재-재배포 금지.>\n"
     ]
    }
   ],
   "source": [
    "idx = len(rank_idx) - 1\n",
    "print(article_series[idx].split(\"▶\")[0])"
   ]
  },
  {
   "cell_type": "markdown",
   "metadata": {},
   "source": [
    "### 추가할 사항\n",
    "\n",
    "- 네이버 기사 카테고리 분류 모델로 댓글 마다 카테고리를 분류해서 카테고리에 대한 수치도 기사 추천 수치에 추가\n",
    "- 추천 결과에 대한 검증방법이 있는지?, "
   ]
  }
 ],
 "metadata": {
  "kernelspec": {
   "display_name": "Python 3",
   "language": "python",
   "name": "python3"
  },
  "language_info": {
   "codemirror_mode": {
    "name": "ipython",
    "version": 3
   },
   "file_extension": ".py",
   "mimetype": "text/x-python",
   "name": "python",
   "nbconvert_exporter": "python",
   "pygments_lexer": "ipython3",
   "version": "3.5.1"
  }
 },
 "nbformat": 4,
 "nbformat_minor": 0
}
