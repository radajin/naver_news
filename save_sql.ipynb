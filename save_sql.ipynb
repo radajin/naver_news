{
 "cells": [
  {
   "cell_type": "code",
   "execution_count": 78,
   "metadata": {
    "collapsed": true
   },
   "outputs": [],
   "source": [
    "import pandas as pd\n",
    "import pickle\n",
    "import MySQLdb"
   ]
  },
  {
   "cell_type": "code",
   "execution_count": 79,
   "metadata": {
    "collapsed": true
   },
   "outputs": [],
   "source": [
    "def get_data(date):\n",
    "    \n",
    "    article_df, comment_df = \"\", \"\"\n",
    "    \n",
    "    with open(\"./data/article_\" + date + \".plk\", 'rb') as file:\n",
    "        article_df = pickle.load(file)\n",
    "        \n",
    "    with open(\"./data/comment_\" + date + \".plk\", 'rb') as file:\n",
    "        comment_df = pickle.load(file)\n",
    "        \n",
    "    return article_df, comment_df"
   ]
  },
  {
   "cell_type": "code",
   "execution_count": 117,
   "metadata": {
    "collapsed": false
   },
   "outputs": [
    {
     "data": {
      "text/plain": [
       "(2327, 117663)"
      ]
     },
     "execution_count": 117,
     "metadata": {},
     "output_type": "execute_result"
    }
   ],
   "source": [
    "date = \"2016-06-01\"\n",
    "article_df, comment_df = get_data(date)\n",
    "len(article_df), len(comment_df)"
   ]
  },
  {
   "cell_type": "code",
   "execution_count": 109,
   "metadata": {
    "collapsed": false
   },
   "outputs": [],
   "source": [
    "db = MySQLdb.connect(\n",
    "    \"127.0.0.1\",\n",
    "    \"root\",\n",
    "    \"****\",\n",
    "    \"naver_news\",\n",
    "    charset='utf8',\n",
    ")"
   ]
  },
  {
   "cell_type": "code",
   "execution_count": 110,
   "metadata": {
    "collapsed": false
   },
   "outputs": [],
   "source": [
    "def make_article_insert(data):\n",
    "    QUERY = \"\"\"\n",
    "        INSERT INTO article (newsid, oid, newspaper, title, link, comment, likeit, content, date, category)                   \n",
    "        VALUES (\"{newsid}\", \"{oid}\", \"{newspaper}\", \"{title}\", \"{link}\", {comment}, {likeit}, \"{content}\", \"{date}\", {category})\n",
    "    \"\"\".format(\n",
    "        newsid=data[\"newsid\"], oid=data[\"oid\"], newspaper=data[\"newspaper\"], title=data[\"title\"].replace(\"\\\"\",\"'\"), link=data[\"link\"], comment=data[\"comment\"], likeit=data[\"likeit\"], content=data[\"content\"].replace(\"\\\"\",\"'\"), date=data[\"date\"], category=data[\"category\"])\n",
    "    return QUERY.replace(\"\\n\",\"\")"
   ]
  },
  {
   "cell_type": "code",
   "execution_count": 111,
   "metadata": {
    "collapsed": false
   },
   "outputs": [],
   "source": [
    "def insert_article(article_df):\n",
    "    for idx in range(len(article_df)):\n",
    "\n",
    "        if idx%1000 == 0:\n",
    "            print(idx)\n",
    "\n",
    "        query = make_article_insert(article_df.loc[idx])\n",
    "        cursor = db.cursor()\n",
    "        cursor.execute(query)\n",
    "        db.commit()"
   ]
  },
  {
   "cell_type": "code",
   "execution_count": 112,
   "metadata": {
    "collapsed": false
   },
   "outputs": [
    {
     "name": "stdout",
     "output_type": "stream",
     "text": [
      "0\n",
      "1000\n",
      "2000\n",
      "CPU times: user 1.24 s, sys: 136 ms, total: 1.37 s\n",
      "Wall time: 2.7 s\n"
     ]
    }
   ],
   "source": [
    "%time insert_article(article_df)"
   ]
  },
  {
   "cell_type": "code",
   "execution_count": 113,
   "metadata": {
    "collapsed": false
   },
   "outputs": [],
   "source": [
    "def replace_str_list(emoticon_list, content):\n",
    "    emoticon_list = list(emoticon_list)\n",
    "    for emoticon in emoticon_list:\n",
    "        content = content.replace(emoticon, \"\")\n",
    "    return content\n",
    "\n",
    "def make_comment_insert(data):\n",
    "    \n",
    "    emoticon_list = \"🙋🐷😱👏😨🏈😈👿😇😆😉😀😁😃😄😲😞😗😝😗😒😲😛😕😠😬😡😎😚😘😙😟😲😤😆😊😢😯😇😂😅😧🐖🐒💨💚🐶🐕🐽👎🎊✌😉👌👍😜\"\n",
    "    emoticon_list += \"👬👭🍷🍹☕🍨🍴🍰🍗🍞🍜🍚🍛🍲🍎🍏🍊🍋🍄🍅🍇🍓🍍🍒🍑🍐🍈👒👗👜👚👡👠👙👝👛💰💳🐔🐥🔫✈🔪🍚🍖🍗👽👾💀👹👺😂🖕🏿🎴💕🐦\"\n",
    "    emoticon_list += \"👥🍄🍆🍑🌹🙏🐀🐁💂🐔✈➡👳😧😵😆❌👅💩👊😠😦🐥🐣🙉😊😀😁😃😄😆😉😛😜😝😋☺🐗🍖🍴👍🚗🚕🚘👌🏻🔥❎🙈🙉🙊🤔😓😍💥🎶🚔\"\n",
    "    emoticon_list += \"🇰🇮🇱🇮🇱🇧🇪🏥😔🐩💉🍆🍉🌰💖🎵💯😭🌷😷💦😥😑😐😰😧😤😣👲🐢🐰🙇😩👉💣👈\"\n",
    "        \n",
    "    contents = data[\"contents\"].replace(\"\\\"\",\"'\").replace(\"\\\\\",\"\")\n",
    "    contents = replace_str_list(emoticon_list, contents)\n",
    "    \n",
    "    QUERY = \"\"\"\n",
    "        INSERT INTO comments (category, oid, userIdNo, userName, good, bad, contents, regTime)                   \n",
    "        VALUES ({category}, \"{oid}\", \"{userIdNo}\", \"{userName}\", {good}, {bad}, \"{contents}\", \"{regTime}\")\n",
    "    \"\"\".format(\n",
    "        category=data[\"category\"], aid=data[\"aid\"], oid=data[\"oid\"], userIdNo=data[\"userIdNo\"], userName=data[\"userName\"], good=data[\"good\"], bad=data[\"bad\"], contents=contents, regTime=data[\"regTime\"])\n",
    "    return QUERY.replace(\"\\n\",\"\")"
   ]
  },
  {
   "cell_type": "code",
   "execution_count": 115,
   "metadata": {
    "collapsed": false
   },
   "outputs": [],
   "source": [
    "def insert_comment(comment_df, start=0):\n",
    "    \n",
    "    for idx in range(start, len(comment_df)):\n",
    "\n",
    "        if idx%1000 == 0:\n",
    "            print(idx)\n",
    "\n",
    "        query = make_comment_insert(comment_df.loc[idx])\n",
    "\n",
    "#         print(idx, comment_df.loc[idx][\"contents\"], end=\"\\n\\n\")\n",
    "\n",
    "        cursor = db.cursor()\n",
    "        cursor.execute(query)\n",
    "            \n",
    "        db.commit()"
   ]
  },
  {
   "cell_type": "code",
   "execution_count": 118,
   "metadata": {
    "collapsed": false
   },
   "outputs": [],
   "source": [
    "# %time insert_comment(comment_df)"
   ]
  },
  {
   "cell_type": "code",
   "execution_count": 119,
   "metadata": {
    "collapsed": true
   },
   "outputs": [],
   "source": [
    "db.commit()"
   ]
  },
  {
   "cell_type": "code",
   "execution_count": null,
   "metadata": {
    "collapsed": true
   },
   "outputs": [],
   "source": []
  }
 ],
 "metadata": {
  "kernelspec": {
   "display_name": "Python 3",
   "language": "python",
   "name": "python3"
  },
  "language_info": {
   "codemirror_mode": {
    "name": "ipython",
    "version": 3
   },
   "file_extension": ".py",
   "mimetype": "text/x-python",
   "name": "python",
   "nbconvert_exporter": "python",
   "pygments_lexer": "ipython3",
   "version": "3.5.1"
  }
 },
 "nbformat": 4,
 "nbformat_minor": 0
}
