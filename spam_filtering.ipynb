{
 "cells": [
  {
   "cell_type": "markdown",
   "metadata": {},
   "source": [
    "##### Import Package"
   ]
  },
  {
   "cell_type": "code",
   "execution_count": 1,
   "metadata": {
    "collapsed": true
   },
   "outputs": [],
   "source": [
    "import pandas as pd\n",
    "import numpy as np\n",
    "\n",
    "from sklearn.naive_bayes import MultinomialNB\n",
    "from sklearn.feature_extraction.text import TfidfVectorizer\n",
    "from sklearn.pipeline import Pipeline\n",
    "from sklearn.cross_validation import train_test_split"
   ]
  },
  {
   "cell_type": "markdown",
   "metadata": {},
   "source": [
    "##### Get Data"
   ]
  },
  {
   "cell_type": "code",
   "execution_count": 2,
   "metadata": {
    "collapsed": false
   },
   "outputs": [
    {
     "data": {
      "text/plain": [
       "(14529, 49999)"
      ]
     },
     "execution_count": 2,
     "metadata": {},
     "output_type": "execute_result"
    }
   ],
   "source": [
    "spam_df = pd.read_csv(\"./spam/spam.csv\", sep=\"`\").fillna(\"-\")\n",
    "comment_df = pd.read_csv(\"./spam/comment.csv\", sep=\"`\").fillna(\"-\")\n",
    "len(spam_df), len(comment_df)"
   ]
  },
  {
   "cell_type": "code",
   "execution_count": 3,
   "metadata": {
    "collapsed": true
   },
   "outputs": [],
   "source": [
    "spam_df[\"status\"]=1\n",
    "comment_df[\"status\"]=0"
   ]
  },
  {
   "cell_type": "code",
   "execution_count": 4,
   "metadata": {
    "collapsed": false
   },
   "outputs": [],
   "source": [
    "df = pd.concat([spam_df, comment_df]).reset_index(drop=True)"
   ]
  },
  {
   "cell_type": "markdown",
   "metadata": {},
   "source": [
    "##### split data"
   ]
  },
  {
   "cell_type": "code",
   "execution_count": 5,
   "metadata": {
    "collapsed": false
   },
   "outputs": [
    {
     "data": {
      "text/plain": [
       "(58075, 6453, 58075, 6453)"
      ]
     },
     "execution_count": 5,
     "metadata": {},
     "output_type": "execute_result"
    }
   ],
   "source": [
    "X_train, X_test, y_train, y_test = train_test_split(df.content, df.status, test_size=0.1, random_state=1)\n",
    "len(X_train), len(X_test), len(y_train), len(y_test)"
   ]
  },
  {
   "cell_type": "markdown",
   "metadata": {},
   "source": [
    "##### make model"
   ]
  },
  {
   "cell_type": "code",
   "execution_count": 6,
   "metadata": {
    "collapsed": false
   },
   "outputs": [],
   "source": [
    "clf = Pipeline([\n",
    "            ('vect', TfidfVectorizer()),\n",
    "            ('clf', MultinomialNB(alpha=0.01)),\n",
    "        ])"
   ]
  },
  {
   "cell_type": "code",
   "execution_count": 7,
   "metadata": {
    "collapsed": false
   },
   "outputs": [
    {
     "name": "stdout",
     "output_type": "stream",
     "text": [
      "CPU times: user 3.58 s, sys: 113 ms, total: 3.7 s\n",
      "Wall time: 3.71 s\n"
     ]
    }
   ],
   "source": [
    "%time model = clf.fit(X_train[:],y_train[:]) "
   ]
  },
  {
   "cell_type": "markdown",
   "metadata": {},
   "source": [
    "##### confusion matrix, calssification report"
   ]
  },
  {
   "cell_type": "code",
   "execution_count": 8,
   "metadata": {
    "collapsed": false
   },
   "outputs": [
    {
     "name": "stdout",
     "output_type": "stream",
     "text": [
      "CPU times: user 255 ms, sys: 10.5 ms, total: 265 ms\n",
      "Wall time: 266 ms\n",
      "[[4746  218]\n",
      " [ 474 1015]]\n",
      "             precision    recall  f1-score   support\n",
      "\n",
      "          0       0.91      0.96      0.93      4964\n",
      "          1       0.82      0.68      0.75      1489\n",
      "\n",
      "avg / total       0.89      0.89      0.89      6453\n",
      "\n"
     ]
    }
   ],
   "source": [
    "from sklearn.metrics import confusion_matrix\n",
    "from sklearn.metrics import classification_report\n",
    "\n",
    "%time y_pred = model.predict(X_test)\n",
    "print(confusion_matrix(y_test, y_pred))\n",
    "print(classification_report(y_test, y_pred))"
   ]
  },
  {
   "cell_type": "code",
   "execution_count": 9,
   "metadata": {
    "collapsed": false
   },
   "outputs": [
    {
     "data": {
      "text/plain": [
       "('글을 읽어보니 예수의 가르침대로라면 여자목사도 많아야 하는데 왜 교회에 가면 목사들이 죄다 남자들인가 ?   장로 역시 죄다 남자들뿐이다.',\n",
       " 1)"
      ]
     },
     "execution_count": 9,
     "metadata": {},
     "output_type": "execute_result"
    }
   ],
   "source": [
    "X_test[41123], y_pred[7]"
   ]
  },
  {
   "cell_type": "code",
   "execution_count": 10,
   "metadata": {
    "collapsed": false
   },
   "outputs": [
    {
     "data": {
      "text/html": [
       "<div>\n",
       "<table border=\"1\" class=\"dataframe\">\n",
       "  <thead>\n",
       "    <tr style=\"text-align: right;\">\n",
       "      <th></th>\n",
       "      <th>category1</th>\n",
       "      <th>category2</th>\n",
       "      <th>content</th>\n",
       "    </tr>\n",
       "  </thead>\n",
       "  <tbody>\n",
       "    <tr>\n",
       "      <th>61505</th>\n",
       "      <td>0</td>\n",
       "      <td>0</td>\n",
       "      <td>제발 눈가리고 아웅하는 기사 쓰지 말기 바란다. 용선료 낮춘것 맞냐? 줄어드는 만큼...</td>\n",
       "    </tr>\n",
       "    <tr>\n",
       "      <th>63407</th>\n",
       "      <td>0</td>\n",
       "      <td>0</td>\n",
       "      <td>노출 성추행 성범죄 등등 있는데...한쪽에서는 벗고 설치기 경쟁을</td>\n",
       "    </tr>\n",
       "    <tr>\n",
       "      <th>52819</th>\n",
       "      <td>0</td>\n",
       "      <td>0</td>\n",
       "      <td>피부를 진정시키자!!</td>\n",
       "    </tr>\n",
       "    <tr>\n",
       "      <th>59632</th>\n",
       "      <td>0</td>\n",
       "      <td>0</td>\n",
       "      <td>지난번이 지난 학기 얘기면 이미 상환이 다 끝났습니다. 장학재단에서 확인해보세요</td>\n",
       "    </tr>\n",
       "    <tr>\n",
       "      <th>61839</th>\n",
       "      <td>0</td>\n",
       "      <td>0</td>\n",
       "      <td>일베 사이트 논란 당시, 대부분 언론의 분석은 대량실업 사회에서 남성들의 좌절감에 ...</td>\n",
       "    </tr>\n",
       "    <tr>\n",
       "      <th>50573</th>\n",
       "      <td>0</td>\n",
       "      <td>0</td>\n",
       "      <td>꼭 연예인 깡패를 보는것 같군</td>\n",
       "    </tr>\n",
       "    <tr>\n",
       "      <th>41123</th>\n",
       "      <td>0</td>\n",
       "      <td>0</td>\n",
       "      <td>글을 읽어보니 예수의 가르침대로라면 여자목사도 많아야 하는데 왜 교회에 가면 목사들...</td>\n",
       "    </tr>\n",
       "    <tr>\n",
       "      <th>1419</th>\n",
       "      <td>1</td>\n",
       "      <td>1</td>\n",
       "      <td>절하 하십니까? 저는 구멍가게를 하면서 살아가고 있는 소 시민의 한사람으로 너무답답...</td>\n",
       "    </tr>\n",
       "    <tr>\n",
       "      <th>59043</th>\n",
       "      <td>0</td>\n",
       "      <td>0</td>\n",
       "      <td>야당은 대안이 없어도 되고 문제제기만 하면 된다고 말했던 사람이....ㅋㅋ 코메디다..</td>\n",
       "    </tr>\n",
       "    <tr>\n",
       "      <th>12302</th>\n",
       "      <td>1</td>\n",
       "      <td>1</td>\n",
       "      <td>남의것 좋아하고 , 공짜좋아하고 , 빈둥빈둥 놀면서 불평불만만 연발 ,\\n못사는책임...</td>\n",
       "    </tr>\n",
       "    <tr>\n",
       "      <th>48322</th>\n",
       "      <td>0</td>\n",
       "      <td>0</td>\n",
       "      <td>한국처럼.</td>\n",
       "    </tr>\n",
       "    <tr>\n",
       "      <th>13301</th>\n",
       "      <td>1</td>\n",
       "      <td>1</td>\n",
       "      <td>밀양에 신공항을 짓느니 영남권 신공항은 백지화하는게 맞다고 봅니다.\\n산으로 둘러 ...</td>\n",
       "    </tr>\n",
       "    <tr>\n",
       "      <th>55438</th>\n",
       "      <td>0</td>\n",
       "      <td>0</td>\n",
       "      <td>민성아 태권도를 노력해서 잘하기 바래</td>\n",
       "    </tr>\n",
       "    <tr>\n",
       "      <th>41846</th>\n",
       "      <td>0</td>\n",
       "      <td>0</td>\n",
       "      <td>오버워치는 왜 만들어가지고.....ㅠㅠㅠ</td>\n",
       "    </tr>\n",
       "    <tr>\n",
       "      <th>3015</th>\n",
       "      <td>1</td>\n",
       "      <td>1</td>\n",
       "      <td>강대국의 이권이 충돌하는 지정학적 위치로인해 우리 민족이 얼마나 침략과 수탈속에서 ...</td>\n",
       "    </tr>\n",
       "    <tr>\n",
       "      <th>808</th>\n",
       "      <td>1</td>\n",
       "      <td>1</td>\n",
       "      <td>추천0\\n반대0\\n.주말이면 힘들다고 집안에만 있었는데 올해는 꼭 가족과 함께 등산...</td>\n",
       "    </tr>\n",
       "    <tr>\n",
       "      <th>37295</th>\n",
       "      <td>0</td>\n",
       "      <td>0</td>\n",
       "      <td>화이팅~~</td>\n",
       "    </tr>\n",
       "    <tr>\n",
       "      <th>49008</th>\n",
       "      <td>0</td>\n",
       "      <td>0</td>\n",
       "      <td>작가가 생각이 있는 사람이야 없는사람이야.\\n단지 시청률 끌 생각으로 이번편 구성한...</td>\n",
       "    </tr>\n",
       "    <tr>\n",
       "      <th>3913</th>\n",
       "      <td>0</td>\n",
       "      <td>1</td>\n",
       "      <td>북한은 성공했단 얘기네\\n우리는 러시아 없이는  쏘아올리지도 못하는데\\n1단 추진체...</td>\n",
       "    </tr>\n",
       "    <tr>\n",
       "      <th>18928</th>\n",
       "      <td>0</td>\n",
       "      <td>0</td>\n",
       "      <td>언제나 좋은음악 의미있는 이야기 감사합니다 ♥♥</td>\n",
       "    </tr>\n",
       "    <tr>\n",
       "      <th>59138</th>\n",
       "      <td>0</td>\n",
       "      <td>0</td>\n",
       "      <td>앞으로 4년은 밥만먹고 조용히 살아야....그런느낌...  자업자득이야</td>\n",
       "    </tr>\n",
       "    <tr>\n",
       "      <th>20278</th>\n",
       "      <td>0</td>\n",
       "      <td>0</td>\n",
       "      <td>다른 집은 돈을 받는데 돈을 안 받다니 대단하시다.</td>\n",
       "    </tr>\n",
       "    <tr>\n",
       "      <th>13881</th>\n",
       "      <td>0</td>\n",
       "      <td>1</td>\n",
       "      <td>보슬아치들은 하나같이 남자랑 히히덕거리다 잘 놀다가 마음변하면 다음날 `성폭행`당햇...</td>\n",
       "    </tr>\n",
       "    <tr>\n",
       "      <th>38428</th>\n",
       "      <td>0</td>\n",
       "      <td>0</td>\n",
       "      <td>짤라라!!!\\n좆에 대한 사형제도 필요하다\\n특히 우리나라처럼 근친상간, 반인륜범죄...</td>\n",
       "    </tr>\n",
       "    <tr>\n",
       "      <th>54359</th>\n",
       "      <td>0</td>\n",
       "      <td>0</td>\n",
       "      <td>정말 남다르네요...</td>\n",
       "    </tr>\n",
       "    <tr>\n",
       "      <th>55838</th>\n",
       "      <td>0</td>\n",
       "      <td>0</td>\n",
       "      <td>이재준 도의원님은 동네는 걸어서 다니시고, 먼 거리는 대중교통을 이용하시면서 시민과...</td>\n",
       "    </tr>\n",
       "    <tr>\n",
       "      <th>39521</th>\n",
       "      <td>0</td>\n",
       "      <td>0</td>\n",
       "      <td>불우한 사람을 돕는 일은 정말 좋은 것 같습니다. 이 일을 하는 당사자가 자신이 얼...</td>\n",
       "    </tr>\n",
       "    <tr>\n",
       "      <th>51634</th>\n",
       "      <td>0</td>\n",
       "      <td>0</td>\n",
       "      <td>정부의 재정보조를 안받는 지자체의 수입을 일부 빼앗아 못사는 지자체에게 떨궈 주겠다...</td>\n",
       "    </tr>\n",
       "    <tr>\n",
       "      <th>34471</th>\n",
       "      <td>0</td>\n",
       "      <td>0</td>\n",
       "      <td>하기싫으면 혀라도 깨물고 디지지 왜 하면서 뭐람? 다 돈 많이씩 빨리씩 쉽게 벌려고...</td>\n",
       "    </tr>\n",
       "    <tr>\n",
       "      <th>61916</th>\n",
       "      <td>0</td>\n",
       "      <td>0</td>\n",
       "      <td>편리하네요~</td>\n",
       "    </tr>\n",
       "    <tr>\n",
       "      <th>...</th>\n",
       "      <td>...</td>\n",
       "      <td>...</td>\n",
       "      <td>...</td>\n",
       "    </tr>\n",
       "    <tr>\n",
       "      <th>37678</th>\n",
       "      <td>0</td>\n",
       "      <td>0</td>\n",
       "      <td>이상호기자의 삼성 X파일을 보세요... 한겨레와 오마이가 어떤 언론사인지 나와 있어...</td>\n",
       "    </tr>\n",
       "    <tr>\n",
       "      <th>20906</th>\n",
       "      <td>0</td>\n",
       "      <td>0</td>\n",
       "      <td>일베는 자연스럽게 소멸되겠지만  그 과정에서 입게되는 사회적 피해는 치명적이다   ...</td>\n",
       "    </tr>\n",
       "    <tr>\n",
       "      <th>14695</th>\n",
       "      <td>0</td>\n",
       "      <td>0</td>\n",
       "      <td>오버워치~ 오랜만에 정말 재미있는 게임 만나서 좋네요 ㅋㅋ</td>\n",
       "    </tr>\n",
       "    <tr>\n",
       "      <th>45921</th>\n",
       "      <td>0</td>\n",
       "      <td>0</td>\n",
       "      <td>페위 식힐 만큼의 명분이 내게는 없었다. 그당시에 고려와 백제보다 내가 더 부유했고...</td>\n",
       "    </tr>\n",
       "    <tr>\n",
       "      <th>41679</th>\n",
       "      <td>0</td>\n",
       "      <td>0</td>\n",
       "      <td>젊은 사람이 그럴수도 있지라는 말에 도덕 불감증이아니라..그야말로 짐승이란 말밖에..?</td>\n",
       "    </tr>\n",
       "    <tr>\n",
       "      <th>29056</th>\n",
       "      <td>0</td>\n",
       "      <td>0</td>\n",
       "      <td>저도 망설이다가 세탁기 돌렸더니 비가 내리네요.\\n많이도 아니고 이슬비가 뿌리고 있...</td>\n",
       "    </tr>\n",
       "    <tr>\n",
       "      <th>54497</th>\n",
       "      <td>0</td>\n",
       "      <td>0</td>\n",
       "      <td>써보고싶네요</td>\n",
       "    </tr>\n",
       "    <tr>\n",
       "      <th>48348</th>\n",
       "      <td>0</td>\n",
       "      <td>0</td>\n",
       "      <td>당신마누라 평생 업고다니시요</td>\n",
       "    </tr>\n",
       "    <tr>\n",
       "      <th>44037</th>\n",
       "      <td>0</td>\n",
       "      <td>0</td>\n",
       "      <td>이유없이 선한 사람들이 피해를 입었다는게 안타까워요\\n비록 멀리 떨어져있지만 멀리서...</td>\n",
       "    </tr>\n",
       "    <tr>\n",
       "      <th>33578</th>\n",
       "      <td>0</td>\n",
       "      <td>0</td>\n",
       "      <td>맨 날 모이기만 하면 술판이다. 이따위니 한국이 증류주 소비 세계 1위라른</td>\n",
       "    </tr>\n",
       "    <tr>\n",
       "      <th>22524</th>\n",
       "      <td>0</td>\n",
       "      <td>0</td>\n",
       "      <td>저두요..... 앞으로 이런 일이 없으면 좋겠습니다.</td>\n",
       "    </tr>\n",
       "    <tr>\n",
       "      <th>51876</th>\n",
       "      <td>0</td>\n",
       "      <td>0</td>\n",
       "      <td>감정은 이해간다만 법을 강화할거 같았으면 진작하던지 왜 이제와서 다른 강간범이랑 다...</td>\n",
       "    </tr>\n",
       "    <tr>\n",
       "      <th>10819</th>\n",
       "      <td>1</td>\n",
       "      <td>1</td>\n",
       "      <td>선거  몇일  앞두고  또  5.18정신을  욕보이고 쇼하고  자빠젔다.\\n\\n정말...</td>\n",
       "    </tr>\n",
       "    <tr>\n",
       "      <th>38905</th>\n",
       "      <td>0</td>\n",
       "      <td>0</td>\n",
       "      <td>친일파와 국가반역자 시민학살자들을 모셔놓고  신성한국립묘지에서 참배를한다? 이는 일...</td>\n",
       "    </tr>\n",
       "    <tr>\n",
       "      <th>21172</th>\n",
       "      <td>0</td>\n",
       "      <td>0</td>\n",
       "      <td>요즘 같은 시대에 일, 가정 양립을 돕는 회사가 정말 중요한 것 같아요!\\n너무 좋...</td>\n",
       "    </tr>\n",
       "    <tr>\n",
       "      <th>45997</th>\n",
       "      <td>0</td>\n",
       "      <td>0</td>\n",
       "      <td>마크리퍼트씨 빠른 쾌유를 빌게요. 그리고 항상 한국을 사랑해 주셔서 감사합니다!! ...</td>\n",
       "    </tr>\n",
       "    <tr>\n",
       "      <th>14991</th>\n",
       "      <td>0</td>\n",
       "      <td>0</td>\n",
       "      <td>서명합니다. 동물의료비 수가를 내리든지 아니면 자가 치료라도 허용하든지.</td>\n",
       "    </tr>\n",
       "    <tr>\n",
       "      <th>1537</th>\n",
       "      <td>1</td>\n",
       "      <td>1</td>\n",
       "      <td>ㅋㅋㅋ 또 한건 잡았네^^\\n\\n오마이 개마이가 왜 저것 대문에 안건나 했다..\\n...</td>\n",
       "    </tr>\n",
       "    <tr>\n",
       "      <th>1346</th>\n",
       "      <td>1</td>\n",
       "      <td>1</td>\n",
       "      <td>음~~~\\n아무래도 2017년 야당에게 집단 몰표를 투하할 듯 싶습니다~~~~~~~ㅎㅎㅎ</td>\n",
       "    </tr>\n",
       "    <tr>\n",
       "      <th>9516</th>\n",
       "      <td>1</td>\n",
       "      <td>1</td>\n",
       "      <td>mirror 님~~\\n싸가지는 정청래에게 해당하는 말이오~~~~~~~ㅎㅎㅎ\\n이 삿...</td>\n",
       "    </tr>\n",
       "    <tr>\n",
       "      <th>45225</th>\n",
       "      <td>0</td>\n",
       "      <td>0</td>\n",
       "      <td>저는 앞으로 중간고사의 성적보다 기말고사의 성적이 더 잘나왔 으면 좋겠습니다.\\n그...</td>\n",
       "    </tr>\n",
       "    <tr>\n",
       "      <th>30095</th>\n",
       "      <td>0</td>\n",
       "      <td>0</td>\n",
       "      <td>대한민국 국회의원들을 비롯한 공직자들의 가족이 일직 이러한 자식들이  자라고 있었드...</td>\n",
       "    </tr>\n",
       "    <tr>\n",
       "      <th>38252</th>\n",
       "      <td>0</td>\n",
       "      <td>0</td>\n",
       "      <td>그곳을 욕하는것이 문제가 아니라...피료없이 지역을 욕하는게 문제인거지요?\\n범죄율...</td>\n",
       "    </tr>\n",
       "    <tr>\n",
       "      <th>22102</th>\n",
       "      <td>0</td>\n",
       "      <td>0</td>\n",
       "      <td>사고가 난 이후에 원청자가 어떤 책임을 질 수 있는가?\\n하도급 시스템을 당장 없애...</td>\n",
       "    </tr>\n",
       "    <tr>\n",
       "      <th>6393</th>\n",
       "      <td>0</td>\n",
       "      <td>1</td>\n",
       "      <td>굳이 이런 당 만들 필요가 있을까요?</td>\n",
       "    </tr>\n",
       "    <tr>\n",
       "      <th>19974</th>\n",
       "      <td>1</td>\n",
       "      <td>0</td>\n",
       "      <td>1978년 싱가포르 쉘석유 근무시 싱가포르에서 오메가시계을 구입할때 내머리 스타일이...</td>\n",
       "    </tr>\n",
       "    <tr>\n",
       "      <th>40792</th>\n",
       "      <td>0</td>\n",
       "      <td>0</td>\n",
       "      <td>아니 무슨 이상한 소리? 부자 증세를 해서 부자들끼리 결혼을 한다고?\\n장난하나? ...</td>\n",
       "    </tr>\n",
       "    <tr>\n",
       "      <th>3490</th>\n",
       "      <td>0</td>\n",
       "      <td>1</td>\n",
       "      <td>신뢰와 원칙 정직을 내걸고 맨날 거짓말 하는 여자는 뭐꼬 스키야.</td>\n",
       "    </tr>\n",
       "    <tr>\n",
       "      <th>47039</th>\n",
       "      <td>0</td>\n",
       "      <td>0</td>\n",
       "      <td>일본에서는 많은 자연재해가 일어나서 그 자연재해로 인해 많은 사망자가 생깁니다.  ...</td>\n",
       "    </tr>\n",
       "    <tr>\n",
       "      <th>32290</th>\n",
       "      <td>0</td>\n",
       "      <td>0</td>\n",
       "      <td>그동안 환경에는 눈곱만큼도 관심이 없고 `클린 디젤`이니 `유기농`이니 얄팍한 상술...</td>\n",
       "    </tr>\n",
       "  </tbody>\n",
       "</table>\n",
       "<p>6453 rows × 3 columns</p>\n",
       "</div>"
      ],
      "text/plain": [
       "       category1  category2                                            content\n",
       "61505          0          0  제발 눈가리고 아웅하는 기사 쓰지 말기 바란다. 용선료 낮춘것 맞냐? 줄어드는 만큼...\n",
       "63407          0          0               노출 성추행 성범죄 등등 있는데...한쪽에서는 벗고 설치기 경쟁을\n",
       "52819          0          0                                        피부를 진정시키자!!\n",
       "59632          0          0       지난번이 지난 학기 얘기면 이미 상환이 다 끝났습니다. 장학재단에서 확인해보세요\n",
       "61839          0          0  일베 사이트 논란 당시, 대부분 언론의 분석은 대량실업 사회에서 남성들의 좌절감에 ...\n",
       "50573          0          0                                   꼭 연예인 깡패를 보는것 같군\n",
       "41123          0          0  글을 읽어보니 예수의 가르침대로라면 여자목사도 많아야 하는데 왜 교회에 가면 목사들...\n",
       "1419           1          1  절하 하십니까? 저는 구멍가게를 하면서 살아가고 있는 소 시민의 한사람으로 너무답답...\n",
       "59043          0          0   야당은 대안이 없어도 되고 문제제기만 하면 된다고 말했던 사람이....ㅋㅋ 코메디다..\n",
       "12302          1          1  남의것 좋아하고 , 공짜좋아하고 , 빈둥빈둥 놀면서 불평불만만 연발 ,\\n못사는책임...\n",
       "48322          0          0                                              한국처럼.\n",
       "13301          1          1  밀양에 신공항을 짓느니 영남권 신공항은 백지화하는게 맞다고 봅니다.\\n산으로 둘러 ...\n",
       "55438          0          0                               민성아 태권도를 노력해서 잘하기 바래\n",
       "41846          0          0                             오버워치는 왜 만들어가지고.....ㅠㅠㅠ\n",
       "3015           1          1  강대국의 이권이 충돌하는 지정학적 위치로인해 우리 민족이 얼마나 침략과 수탈속에서 ...\n",
       "808            1          1  추천0\\n반대0\\n.주말이면 힘들다고 집안에만 있었는데 올해는 꼭 가족과 함께 등산...\n",
       "37295          0          0                                              화이팅~~\n",
       "49008          0          0  작가가 생각이 있는 사람이야 없는사람이야.\\n단지 시청률 끌 생각으로 이번편 구성한...\n",
       "3913           0          1  북한은 성공했단 얘기네\\n우리는 러시아 없이는  쏘아올리지도 못하는데\\n1단 추진체...\n",
       "18928          0          0                         언제나 좋은음악 의미있는 이야기 감사합니다 ♥♥\n",
       "59138          0          0            앞으로 4년은 밥만먹고 조용히 살아야....그런느낌...  자업자득이야\n",
       "20278          0          0                       다른 집은 돈을 받는데 돈을 안 받다니 대단하시다.\n",
       "13881          0          1  보슬아치들은 하나같이 남자랑 히히덕거리다 잘 놀다가 마음변하면 다음날 `성폭행`당햇...\n",
       "38428          0          0  짤라라!!!\\n좆에 대한 사형제도 필요하다\\n특히 우리나라처럼 근친상간, 반인륜범죄...\n",
       "54359          0          0                                        정말 남다르네요...\n",
       "55838          0          0  이재준 도의원님은 동네는 걸어서 다니시고, 먼 거리는 대중교통을 이용하시면서 시민과...\n",
       "39521          0          0  불우한 사람을 돕는 일은 정말 좋은 것 같습니다. 이 일을 하는 당사자가 자신이 얼...\n",
       "51634          0          0  정부의 재정보조를 안받는 지자체의 수입을 일부 빼앗아 못사는 지자체에게 떨궈 주겠다...\n",
       "34471          0          0  하기싫으면 혀라도 깨물고 디지지 왜 하면서 뭐람? 다 돈 많이씩 빨리씩 쉽게 벌려고...\n",
       "61916          0          0                                             편리하네요~\n",
       "...          ...        ...                                                ...\n",
       "37678          0          0  이상호기자의 삼성 X파일을 보세요... 한겨레와 오마이가 어떤 언론사인지 나와 있어...\n",
       "20906          0          0  일베는 자연스럽게 소멸되겠지만  그 과정에서 입게되는 사회적 피해는 치명적이다   ...\n",
       "14695          0          0                   오버워치~ 오랜만에 정말 재미있는 게임 만나서 좋네요 ㅋㅋ\n",
       "45921          0          0  페위 식힐 만큼의 명분이 내게는 없었다. 그당시에 고려와 백제보다 내가 더 부유했고...\n",
       "41679          0          0   젊은 사람이 그럴수도 있지라는 말에 도덕 불감증이아니라..그야말로 짐승이란 말밖에..?\n",
       "29056          0          0  저도 망설이다가 세탁기 돌렸더니 비가 내리네요.\\n많이도 아니고 이슬비가 뿌리고 있...\n",
       "54497          0          0                                             써보고싶네요\n",
       "48348          0          0                                    당신마누라 평생 업고다니시요\n",
       "44037          0          0  이유없이 선한 사람들이 피해를 입었다는게 안타까워요\\n비록 멀리 떨어져있지만 멀리서...\n",
       "33578          0          0          맨 날 모이기만 하면 술판이다. 이따위니 한국이 증류주 소비 세계 1위라른\n",
       "22524          0          0                      저두요..... 앞으로 이런 일이 없으면 좋겠습니다.\n",
       "51876          0          0  감정은 이해간다만 법을 강화할거 같았으면 진작하던지 왜 이제와서 다른 강간범이랑 다...\n",
       "10819          1          1  선거  몇일  앞두고  또  5.18정신을  욕보이고 쇼하고  자빠젔다.\\n\\n정말...\n",
       "38905          0          0  친일파와 국가반역자 시민학살자들을 모셔놓고  신성한국립묘지에서 참배를한다? 이는 일...\n",
       "21172          0          0  요즘 같은 시대에 일, 가정 양립을 돕는 회사가 정말 중요한 것 같아요!\\n너무 좋...\n",
       "45997          0          0  마크리퍼트씨 빠른 쾌유를 빌게요. 그리고 항상 한국을 사랑해 주셔서 감사합니다!! ...\n",
       "14991          0          0           서명합니다. 동물의료비 수가를 내리든지 아니면 자가 치료라도 허용하든지.\n",
       "1537           1          1  ㅋㅋㅋ 또 한건 잡았네^^\\n\\n오마이 개마이가 왜 저것 대문에 안건나 했다..\\n...\n",
       "1346           1          1  음~~~\\n아무래도 2017년 야당에게 집단 몰표를 투하할 듯 싶습니다~~~~~~~ㅎㅎㅎ\n",
       "9516           1          1  mirror 님~~\\n싸가지는 정청래에게 해당하는 말이오~~~~~~~ㅎㅎㅎ\\n이 삿...\n",
       "45225          0          0  저는 앞으로 중간고사의 성적보다 기말고사의 성적이 더 잘나왔 으면 좋겠습니다.\\n그...\n",
       "30095          0          0  대한민국 국회의원들을 비롯한 공직자들의 가족이 일직 이러한 자식들이  자라고 있었드...\n",
       "38252          0          0  그곳을 욕하는것이 문제가 아니라...피료없이 지역을 욕하는게 문제인거지요?\\n범죄율...\n",
       "22102          0          0  사고가 난 이후에 원청자가 어떤 책임을 질 수 있는가?\\n하도급 시스템을 당장 없애...\n",
       "6393           0          1                               굳이 이런 당 만들 필요가 있을까요?\n",
       "19974          1          0  1978년 싱가포르 쉘석유 근무시 싱가포르에서 오메가시계을 구입할때 내머리 스타일이...\n",
       "40792          0          0  아니 무슨 이상한 소리? 부자 증세를 해서 부자들끼리 결혼을 한다고?\\n장난하나? ...\n",
       "3490           0          1               신뢰와 원칙 정직을 내걸고 맨날 거짓말 하는 여자는 뭐꼬 스키야.\n",
       "47039          0          0  일본에서는 많은 자연재해가 일어나서 그 자연재해로 인해 많은 사망자가 생깁니다.  ...\n",
       "32290          0          0  그동안 환경에는 눈곱만큼도 관심이 없고 `클린 디젤`이니 `유기농`이니 얄팍한 상술...\n",
       "\n",
       "[6453 rows x 3 columns]"
      ]
     },
     "execution_count": 10,
     "metadata": {},
     "output_type": "execute_result"
    }
   ],
   "source": [
    "pd.DataFrame({\"content\":X_test, \"category1\":y_pred, \"category2\":y_test})"
   ]
  },
  {
   "cell_type": "code",
   "execution_count": null,
   "metadata": {
    "collapsed": true
   },
   "outputs": [],
   "source": []
  }
 ],
 "metadata": {
  "kernelspec": {
   "display_name": "Python 3",
   "language": "python",
   "name": "python3"
  },
  "language_info": {
   "codemirror_mode": {
    "name": "ipython",
    "version": 3
   },
   "file_extension": ".py",
   "mimetype": "text/x-python",
   "name": "python",
   "nbconvert_exporter": "python",
   "pygments_lexer": "ipython3",
   "version": "3.5.1"
  }
 },
 "nbformat": 4,
 "nbformat_minor": 0
}
