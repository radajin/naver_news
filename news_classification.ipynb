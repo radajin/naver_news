{
 "cells": [
  {
   "cell_type": "markdown",
   "metadata": {},
   "source": [
    "##### Import Package"
   ]
  },
  {
   "cell_type": "code",
   "execution_count": 2,
   "metadata": {
    "collapsed": true
   },
   "outputs": [],
   "source": [
    "from sklearn.feature_extraction.text import CountVectorizer, TfidfVectorizer, HashingVectorizer\n",
    "from sklearn.cross_validation import train_test_split\n",
    "from sklearn.naive_bayes import MultinomialNB\n",
    "from sklearn.pipeline import Pipeline\n",
    "from konlpy.tag import Twitter\n",
    "\n",
    "import pandas as pd"
   ]
  },
  {
   "cell_type": "markdown",
   "metadata": {},
   "source": [
    "##### Get Article"
   ]
  },
  {
   "cell_type": "code",
   "execution_count": 3,
   "metadata": {
    "collapsed": false
   },
   "outputs": [
    {
     "data": {
      "text/plain": [
       "(104960,\n",
       " Index(['newsid', 'oid', 'newspaper', 'title', 'link', 'comment', 'likeit',\n",
       "        'content', 'date', 'category'],\n",
       "       dtype='object'))"
      ]
     },
     "execution_count": 3,
     "metadata": {},
     "output_type": "execute_result"
    }
   ],
   "source": [
    "df_list = []\n",
    "for day in range(1,31):\n",
    "    day = \"0\" + str(day) if 10 > day else str(day)\n",
    "    date = \"2016-06-\" + day\n",
    "    df = pd.read_csv(\"./news/\" + date + \".csv\").fillna(\"-\")\n",
    "    df_list.append(df)\n",
    "\n",
    "for day in range(1,30):\n",
    "    day = \"0\" + str(day) if 10 > day else str(day)\n",
    "    date = \"2016-05-\" + day\n",
    "    df = pd.read_csv(\"./news/\" + date + \".csv\").fillna(\"-\")\n",
    "    df_list.append(df)\n",
    "\n",
    "article_df = pd.concat(df_list).reset_index(drop=True)\n",
    "\n",
    "len(article_df), article_df.columns"
   ]
  },
  {
   "cell_type": "markdown",
   "metadata": {},
   "source": [
    "##### Split Tratin, Test"
   ]
  },
  {
   "cell_type": "code",
   "execution_count": 4,
   "metadata": {
    "collapsed": false
   },
   "outputs": [
    {
     "data": {
      "text/plain": [
       "(103910, 1050, 103910, 1050)"
      ]
     },
     "execution_count": 4,
     "metadata": {},
     "output_type": "execute_result"
    }
   ],
   "source": [
    "X_train, X_test, y_train, y_test = train_test_split(article_df.content, article_df.category, test_size=0.01, random_state=1)\n",
    "len(X_train), len(X_test), len(y_train), len(y_test)"
   ]
  },
  {
   "cell_type": "markdown",
   "metadata": {},
   "source": [
    "##### Set Stop Words"
   ]
  },
  {
   "cell_type": "code",
   "execution_count": 5,
   "metadata": {
    "collapsed": true
   },
   "outputs": [],
   "source": [
    "stop_words_list = [\"동아일보\", \"경향신문\"]"
   ]
  },
  {
   "cell_type": "markdown",
   "metadata": {},
   "source": [
    "##### Set Morpheme"
   ]
  },
  {
   "cell_type": "code",
   "execution_count": 6,
   "metadata": {
    "collapsed": true
   },
   "outputs": [],
   "source": [
    "pos_tagger = Twitter()\n",
    "\n",
    "def tokenize_pos(doc):\n",
    "    return ['/'.join(t) for t in pos_tagger.pos(doc, norm=True, stem=True)]"
   ]
  },
  {
   "cell_type": "markdown",
   "metadata": {},
   "source": [
    "##### Set Model"
   ]
  },
  {
   "cell_type": "code",
   "execution_count": 7,
   "metadata": {
    "collapsed": false
   },
   "outputs": [],
   "source": [
    "clf = Pipeline([\n",
    "#             ('vect', TfidfVectorizer(tokenizer=tokenize_pos, stop_words=stop_words, ngram_range=(1,2))),\n",
    "            ('vect', TfidfVectorizer(stop_words=stop_words_list, ngram_range=(1,2))),\n",
    "            ('clf', MultinomialNB(alpha=0.01)),\n",
    "        ])"
   ]
  },
  {
   "cell_type": "code",
   "execution_count": 8,
   "metadata": {
    "collapsed": false
   },
   "outputs": [
    {
     "name": "stdout",
     "output_type": "stream",
     "text": [
      "CPU times: user 29.9 s, sys: 1.16 s, total: 31 s\n",
      "Wall time: 31.1 s\n"
     ]
    }
   ],
   "source": [
    "%time model = clf.fit(X_train[:10000],y_train[:10000]) "
   ]
  },
  {
   "cell_type": "markdown",
   "metadata": {},
   "source": [
    "##### Confusion Matrix, Classfication Report\n",
    "- category - 0:정치, 1:경제, 2:사회, 3.생활/문화, 4.세계, 5.IT/과학"
   ]
  },
  {
   "cell_type": "code",
   "execution_count": 9,
   "metadata": {
    "collapsed": false
   },
   "outputs": [
    {
     "name": "stdout",
     "output_type": "stream",
     "text": [
      "CPU times: user 1.42 s, sys: 161 ms, total: 1.58 s\n",
      "Wall time: 1.6 s\n",
      "[[242   7   7   0   3   0]\n",
      " [  6 145  12   3   2   1]\n",
      " [ 12  12 275   4   1   0]\n",
      " [  1   9  20  83   3   0]\n",
      " [  5   8  10   2 124   0]\n",
      " [  2  11   4   3   6  27]]\n",
      "             precision    recall  f1-score   support\n",
      "\n",
      "          0       0.90      0.93      0.92       259\n",
      "          1       0.76      0.86      0.80       169\n",
      "          2       0.84      0.90      0.87       304\n",
      "          3       0.87      0.72      0.79       116\n",
      "          4       0.89      0.83      0.86       149\n",
      "          5       0.96      0.51      0.67        53\n",
      "\n",
      "avg / total       0.86      0.85      0.85      1050\n",
      "\n"
     ]
    }
   ],
   "source": [
    "from sklearn.metrics import confusion_matrix\n",
    "from sklearn.metrics import classification_report\n",
    "\n",
    "%time y_pred = model.predict(X_test)\n",
    "print(confusion_matrix(y_test, y_pred))\n",
    "print(classification_report(y_test, y_pred))"
   ]
  },
  {
   "cell_type": "code",
   "execution_count": 10,
   "metadata": {
    "collapsed": false
   },
   "outputs": [
    {
     "data": {
      "text/plain": [
       "0       유일호 부총리 겸 기획재정부 장관은 14일 “충분한 재정 보강책을 고민 중이며, 조...\n",
       "1       정의화 국회의장이 17일 오전(현지시간) 일본 중의원 제1의원회관에서 개최된 '한일...\n",
       "2       【서울=뉴시스】이수지 기자 = 미국 재무부가 1일(현지시간) 북한을 '주요 자금세탁...\n",
       "3       옐로스톤 국립공원(와이오밍).그랜드캐니언 국립공원(애리조나).디날리 국립공원(알래스...\n",
       "4       [뉴스닥] 장하나 \"상임위 배치 논란 제기 추혜선 상한가\" vs 이준석 \"청년 정치...\n",
       "5       국회 정무위원회 업무보고 첫날인 29일, 국회와 금융위원회 간의 서별관회의 자료 제...\n",
       "6       국제범죄 대응 주제 발표.. 100여개 회원국 인사 참여강신명 경찰청장이 오는 3일...\n",
       "7       [머니투데이 김지민 기자] [삼성SDS \"물류사업 분할·남은 사업 경쟁력 확보 방안...\n",
       "8       주요 증권사들의 1분기 실적이 대형 증권사를 중심으로 저조한 가운데 발 빠르게 자신...\n",
       "9       1일 새누리당 정진석 당선자(충남 공주·부여·청양·4선)이 신임 원내대표 경선 출마...\n",
       "10      조지아-나토군 연합훈련에 참가한 미군 에이브람스 탱크 [EPA=연합뉴스]푸틴 \"미국...\n",
       "11      [머니투데이 김만배 기자, 이태성 기자, 양성희 기자, 한정수 기자, 김종훈 기자,...\n",
       "12      대기업 수가 절반 가까이 줄면 세수에는 어떤 영향이 있을까. 신영선 공정거래위원회 ...\n",
       "13      ▶ [핫클릭] 근로정신대 양금덕 할머니, 송혜교씨에 감사 편지▶ [핫클릭] '중국 ...\n",
       "14      【서울=뉴시스】박주성 기자 = 한민구 국방부 장관이 4일(현지시간) 싱가포르 샹그릴...\n",
       "15            17일 오전 12시 20분께 부산 해운대구 우동의 한 유명 고깃집 1층에...\n",
       "16      [머니투데이 남형도 기자] [서울연구원, 외국인 관광객 300명 심층인터뷰 해 '불...\n",
       "17      - 여객전용 여객선 선령 30년으로 유지, 25년 넘은 노후선박 5척 운행- 카페리...\n",
       "18      대법, 등기사건 불법처리한 '등기 사무장' 유죄 확정    (서울=연합뉴스) 임순현...\n",
       "19      제20대 국회의 첫 임시국회가 7일 소집되지만 여야의 극적 타결이 없는 한 법정 시...\n",
       "20      【대전=뉴시스】함형서 기자 = 대전지방경찰청 마약수사대는 23일 전국에 필로폰을 유...\n",
       "21      박근혜 대통령이 2일 오전(현지시간) 파리 시내 한 호텔에서 열린 한·프랑스 비즈니...\n",
       "22      2011년 신공항 백지화에 대국민 사과했던 MB와 대조[CBS노컷뉴스 장관순 기자]...\n",
       "23      [머니투데이 서진욱 기자] [지역 및 인기 테마 기반의 맞춤형 여행지 자동추천 기능...\n",
       "24      19일 대법원 공개변론 앞두고 신경전    (서울=연합뉴스) 김민수 기자 = 치과의...\n",
       "25      [서울신문]2010년 제약사·의료인 리베이트 쌍벌제, 2014년 리베이트 연루 의약...\n",
       "26      업계 자율규제 권고 목적…“사실상 주의 경고” (지디넷코리아=백봉삼 기자)박효종 방...\n",
       "27      부산지역 평균 1.9 대 1 경쟁률대구는 12개지역에 19명 신청전통적인 여권 텃밭...\n",
       "28       [한겨레] 싱크탱크 광장“북한의 개성공단 청산절차 막아야”통일부 “고려하기 힘든 ...\n",
       "29      【안산=뉴시스】이종일 기자 = 경기 안산국제거리극축제가 5일 개막했다. 안산시는 이...\n",
       "                              ...                        \n",
       "1020    [앵커]영국의 EU 탈퇴 여부를 가리는 브렉시트 국민투표를 엿새 앞두고 영국의 여성...\n",
       "1021    <앵커>영국의 EU 탈퇴 결정 이후 주말이 지나고 오늘(27일) 금융시장이 어떻게 ...\n",
       "1022    【서울=뉴시스】성병희, '아무도 모른다',130cm*162cm. 캔버스에 아크릴. ...\n",
       "1023    세계적 보안 전문가이자 베스트셀러 작가인 브루스 슈나이어(53)가 개인의 프라이버시...\n",
       "1024    원 구성 협상 마무리 격려 차원골프 안 치는 박지원 불참 김종인 더불어민주당 비상대...\n",
       "1025    【광주=뉴시스】구용희 기자 = '경적을 울렸다'는 이유로 상대 운전자에게 보복운전을...\n",
       "1026    ㆍ작년 상한제 풀리자 거래량 급증박근혜 정부 들어 부동산 규제 완화로 서울 아파트의...\n",
       "1027    2012년 46만 달러→2015년 537만2000달러 기기폭발, 니코틴함량표시오류…...\n",
       "1028    서울시교육청서울 한 공립고등학교 교사들의 연쇄 성추행 사건을 조사할 당시 장학사를 ...\n",
       "1029    '인천 5.3민주항쟁' 30주년... 5·3 정신 계승 기념식 열려[오마이뉴스한만송...\n",
       "1030    【뉴욕=AP/뉴시스】미국 공화당 대선후보인 도널드 트럼프가 18일(현지시간) 뉴욕에...\n",
       "1031    19일 구마모토 이재민들을 위로하는 아키히토 일왕(교도 연합뉴스)    (도쿄=연합...\n",
       "1032    - 첫애 이어 둘째도 입양 나선 아임쇼핑 쇼호스트 이서경씨- 입양은 결혼, 출산처럼...\n",
       "1033    【런던=AP/뉴시스】브렉시트(BREXIT·영국 유럽연합) 탈퇴 지지자인 보리스 존슨...\n",
       "1034    경찰이 김씨 등에게 압수한 빈 생수병생수 제조회사 표기없이 병뚜껑만 새것…경찰 \"최...\n",
       "1035    나토 사무총장 \"이제는 인터넷도 전쟁터\"[AP=연합뉴스 자료사진]\"회원국 사이버 방...\n",
       "1036    새누리당 유승민 의원의 복당을 주도했다는 이유로 친박(친박근혜)계로부터 사퇴 압박을...\n",
       "1037    [서울신문]한국과 마찬가지로 저출산·고령화란 주술에 걸려 있는 일본의 지방자치단체들...\n",
       "1038    간토대지진 조선인 학살 추정 사진          [연합뉴스 자료사진]일본인 대학교...\n",
       "1039    아베 신조 일본 총리(左), 오카다 가쓰야 민진당 대표(右)“중소기업의 도산은 30...\n",
       "1040    [아시아경제 나주석 기자] 우리나라의 노인 빈곤율은 경제협력개발기구(OECD) 회원...\n",
       "1041    ‘백엔의 사랑’영화를 보면 일본 아카데미가 왜 이 여배우를 최고의 여배우로 꼽았는지...\n",
       "1042    반기문 유엔 사무총장은 친노(親盧)계 좌장 격인 이해찬 전 국무총리와의 면담이 무산...\n",
       "1043    비가 지난 뒤라 공기는 서늘하지만 상쾌해져서, 옷만 따뜻하게 입는다면 산책하기 좋은...\n",
       "1044    [서울신문 나우뉴스]사진=포토리아만일 당신이 감기에 걸렸거나 알레르기가 있다면 이따...\n",
       "1045    [단독] 지난 1월 미수습자 포함 희생자 전원 대상... \"안내도 없이 처리해 황당...\n",
       "1046    동중국해 센카쿠 열도(중국명 댜오위다오). © AFP=News1베이징 대사관 통해 ...\n",
       "1047    배우 베네딕트 컴버배치 [AP=연합뉴스 자료사진]브렉시트 찬반 국민투표 한 달 앞두...\n",
       "1048    [앵커]지난달 경기도 안산의 한 음악학원에서 불이 나 2명이 목숨을 잃고 7명이 다...\n",
       "1049     지난해 11월 취임한 캐나다의 40대 젊은 총리 쥐스탱 트뤼도는 내각 절반을 여성...\n",
       "Name: content, dtype: object"
      ]
     },
     "execution_count": 10,
     "metadata": {},
     "output_type": "execute_result"
    }
   ],
   "source": [
    "X_test = X_test.reset_index(drop=True)\n",
    "X_test"
   ]
  },
  {
   "cell_type": "code",
   "execution_count": 11,
   "metadata": {
    "collapsed": false
   },
   "outputs": [
    {
     "name": "stdout",
     "output_type": "stream",
     "text": [
      "경제\n",
      "세계\n",
      "세계\n"
     ]
    }
   ],
   "source": [
    "# 0:정치, 1:경제, 2:사회, 3.생활/문화, 4.세계, 5.IT/과학\n",
    "classification_dict = {\n",
    "    0:\"정치\",\n",
    "    1:\"경제\",\n",
    "    2:\"사회\",\n",
    "    3:\"생활/문화\",\n",
    "    4:\"세계\",\n",
    "    5:\"IT/과학\",\n",
    "}\n",
    "result = model.predict([ X_test[551], X_test[556], X_test[559] ])\n",
    "for category in result:\n",
    "    print(classification_dict[category])"
   ]
  },
  {
   "cell_type": "markdown",
   "metadata": {},
   "source": [
    "##### save model"
   ]
  },
  {
   "cell_type": "code",
   "execution_count": 12,
   "metadata": {
    "collapsed": false
   },
   "outputs": [],
   "source": [
    "import pickle\n",
    "\n",
    "pickle.dump(model, open(\"classification_model.plk\", \"wb\"))"
   ]
  },
  {
   "cell_type": "code",
   "execution_count": 13,
   "metadata": {
    "collapsed": false
   },
   "outputs": [],
   "source": [
    "load_model = pickle.load(open(\"classification_model.plk\", \"rb\"))"
   ]
  },
  {
   "cell_type": "code",
   "execution_count": 17,
   "metadata": {
    "collapsed": false
   },
   "outputs": [
    {
     "name": "stdout",
     "output_type": "stream",
     "text": [
      "IT/과학\n",
      "경제\n"
     ]
    }
   ],
   "source": [
    "test_str1 = \"카카오 주식 정보 제공을 위한 서비스 런칭\"\n",
    "test_str2 = \"요즘에 환율과 주가가 너무 오르락 내리락\"\n",
    "print( classification_dict[ load_model.predict([test_str1])[0] ] )\n",
    "print( classification_dict[ load_model.predict([test_str2])[0] ] )"
   ]
  },
  {
   "cell_type": "code",
   "execution_count": null,
   "metadata": {
    "collapsed": true
   },
   "outputs": [],
   "source": []
  }
 ],
 "metadata": {
  "kernelspec": {
   "display_name": "Python 3",
   "language": "python",
   "name": "python3"
  },
  "language_info": {
   "codemirror_mode": {
    "name": "ipython",
    "version": 3
   },
   "file_extension": ".py",
   "mimetype": "text/x-python",
   "name": "python",
   "nbconvert_exporter": "python",
   "pygments_lexer": "ipython3",
   "version": "3.5.1"
  }
 },
 "nbformat": 4,
 "nbformat_minor": 0
}
