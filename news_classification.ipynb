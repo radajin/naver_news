{
 "cells": [
  {
   "cell_type": "markdown",
   "metadata": {},
   "source": [
    "##### Import Package"
   ]
  },
  {
   "cell_type": "code",
   "execution_count": 82,
   "metadata": {
    "collapsed": true
   },
   "outputs": [],
   "source": [
    "from sklearn.feature_extraction.text import CountVectorizer, TfidfVectorizer, HashingVectorizer\n",
    "from sklearn.cross_validation import train_test_split\n",
    "from sklearn.naive_bayes import MultinomialNB\n",
    "from sklearn.pipeline import Pipeline\n",
    "from konlpy.tag import Twitter\n",
    "\n",
    "import pandas as pd"
   ]
  },
  {
   "cell_type": "markdown",
   "metadata": {},
   "source": [
    "##### Get Article"
   ]
  },
  {
   "cell_type": "code",
   "execution_count": 83,
   "metadata": {
    "collapsed": false
   },
   "outputs": [
    {
     "data": {
      "text/plain": [
       "(56035,\n",
       " Index(['newsid', 'oid', 'newspaper', 'title', 'link', 'comment', 'likeit',\n",
       "        'content', 'date', 'category'],\n",
       "       dtype='object'))"
      ]
     },
     "execution_count": 83,
     "metadata": {},
     "output_type": "execute_result"
    }
   ],
   "source": [
    "df_list = []\n",
    "for day in range(1,31):\n",
    "    day = \"0\" + str(day) if 10 > day else str(day)\n",
    "    date = \"2016-06-\" + day\n",
    "    df = pd.read_csv(\"./news/\" + date + \".csv\").fillna(\"-\")\n",
    "    df_list.append(df)\n",
    "\n",
    "article_df = pd.concat(df_list).reset_index(drop=True)\n",
    "\n",
    "len(article_df), article_df.columns"
   ]
  },
  {
   "cell_type": "markdown",
   "metadata": {},
   "source": [
    "##### Split Tratin, Test"
   ]
  },
  {
   "cell_type": "code",
   "execution_count": 84,
   "metadata": {
    "collapsed": false
   },
   "outputs": [
    {
     "data": {
      "text/plain": [
       "(55474, 561, 55474, 561)"
      ]
     },
     "execution_count": 84,
     "metadata": {},
     "output_type": "execute_result"
    }
   ],
   "source": [
    "X_train, X_test, y_train, y_test = train_test_split(article_df.content, article_df.category, test_size=0.01, random_state=1)\n",
    "len(X_train), len(X_test), len(y_train), len(y_test)"
   ]
  },
  {
   "cell_type": "markdown",
   "metadata": {},
   "source": [
    "##### Set Stop Words"
   ]
  },
  {
   "cell_type": "code",
   "execution_count": 85,
   "metadata": {
    "collapsed": true
   },
   "outputs": [],
   "source": [
    "stop_words_list = [\"동아일보\", \"경향신문\"]"
   ]
  },
  {
   "cell_type": "markdown",
   "metadata": {},
   "source": [
    "##### Set Morpheme"
   ]
  },
  {
   "cell_type": "code",
   "execution_count": 86,
   "metadata": {
    "collapsed": true
   },
   "outputs": [],
   "source": [
    "pos_tagger = Twitter()\n",
    "\n",
    "def tokenize_pos(doc):\n",
    "    return ['/'.join(t) for t in pos_tagger.pos(doc, norm=True, stem=True)]"
   ]
  },
  {
   "cell_type": "markdown",
   "metadata": {},
   "source": [
    "##### Set Model"
   ]
  },
  {
   "cell_type": "code",
   "execution_count": 87,
   "metadata": {
    "collapsed": true
   },
   "outputs": [],
   "source": [
    "clf = Pipeline([\n",
    "#             ('vect', TfidfVectorizer(tokenizer=tokenize_pos, stop_words=stop_words, ngram_range=(1,2))),\n",
    "            ('vect', TfidfVectorizer()),\n",
    "            ('clf', MultinomialNB(alpha=0.01)),\n",
    "        ])"
   ]
  },
  {
   "cell_type": "code",
   "execution_count": 88,
   "metadata": {
    "collapsed": false
   },
   "outputs": [
    {
     "name": "stdout",
     "output_type": "stream",
     "text": [
      "CPU times: user 10.4 s, sys: 939 ms, total: 11.3 s\n",
      "Wall time: 11.5 s\n"
     ]
    }
   ],
   "source": [
    "%time model = clf.fit(X_train[:10000],y_train[:10000]) "
   ]
  },
  {
   "cell_type": "markdown",
   "metadata": {},
   "source": [
    "##### Confusion Matrix, Classfication Report\n",
    "- category - 0:정치, 1:경제, 2:사회, 3.생활/문화, 4.세계, 5.IT/과학"
   ]
  },
  {
   "cell_type": "code",
   "execution_count": 89,
   "metadata": {
    "collapsed": false
   },
   "outputs": [
    {
     "name": "stdout",
     "output_type": "stream",
     "text": [
      "CPU times: user 378 ms, sys: 64.5 ms, total: 442 ms\n",
      "Wall time: 449 ms\n",
      "[[108   2   4   0   0   0]\n",
      " [  1  96   9   1   1   1]\n",
      " [  6   8 148   3   1   2]\n",
      " [  1   5   9  37   1   2]\n",
      " [  3   2   5   0  73   0]\n",
      " [  1   2   1   1   0  27]]\n",
      "             precision    recall  f1-score   support\n",
      "\n",
      "          0       0.90      0.95      0.92       114\n",
      "          1       0.83      0.88      0.86       109\n",
      "          2       0.84      0.88      0.86       168\n",
      "          3       0.88      0.67      0.76        55\n",
      "          4       0.96      0.88      0.92        83\n",
      "          5       0.84      0.84      0.84        32\n",
      "\n",
      "avg / total       0.87      0.87      0.87       561\n",
      "\n"
     ]
    }
   ],
   "source": [
    "from sklearn.metrics import confusion_matrix\n",
    "from sklearn.metrics import classification_report\n",
    "\n",
    "%time y_pred = model.predict(X_test)\n",
    "print(confusion_matrix(y_test, y_pred))\n",
    "print(classification_report(y_test, y_pred))"
   ]
  },
  {
   "cell_type": "code",
   "execution_count": 90,
   "metadata": {
    "collapsed": false
   },
   "outputs": [
    {
     "data": {
      "text/plain": [
       "0      [뉴스데스크]◀ 앵커 ▶브렉시트의 후폭풍은 경제뿐 아니라 다방면에서 이어지고 있습니...\n",
       "1      전북경찰청, 돼지에 착생한 생물 생장 정도로 사망시점 추정    (전주=연합뉴스) ...\n",
       "2      산업부, 가이드라인 초안 마련철강·조선 사업재편 속도낼 듯산업계 스스로 구조조정을 ...\n",
       "3      \"1980년식으로 할 바엔 하지 말아야…구조조정 전 책임소재 밝혀야\"    (서울=...\n",
       "4      [뉴스데스크]◀ 앵커 ▶중국 어선들은 우리 서해뿐만 아니라 멀리 지구 반대편까지 가...\n",
       "5       ■ 방송 : MBC 라디오 표준FM 95.9 <신동호의 시선집중>(06:15~08...\n",
       "6      [동아일보][대법원 판결성향지수 첫 분석]前現 대법관 35명 이념지수 보니“남성적 ...\n",
       "7      여행은 각자의 몫이다. 일반적인 여행 정보에 나만의 레시피를 더하는 것, 그것이 바...\n",
       "8      \"화웨이 타격 입을 수 있지만 中 반격에 한국까지 역풍 우려\"\"中 철강 美서 밀려나...\n",
       "9      【 앵커멘트 】  이번에 문제가 된 학교전담경찰관들은 학생들한테 인기가 많다고 합니...\n",
       "10     © News1 최진모 디자이너(서울=뉴스1) 윤진희 기자 = 최유정 변호사와 홍만표...\n",
       "11     최근 북한정권의 주민들을 대상으로 개인부동산 소유를 허용했다고 북한전문매체인 뉴포커...\n",
       "12     올 하반기에 주력 산업 중 건설과 석유화학을 제외하고는 부진할 것이라는 전망이 나왔...\n",
       "13     회생절차 개시 맞춰 담화문 발표 【서울=뉴시스】 한상연 기자 = 이병모 STX조선해...\n",
       "14     1일부터 장마전선 본격 북상장마가 시작된 지 열흘이 지났지만 남쪽에는 집중호우가, ...\n",
       "15     [머니투데이 이경은 기자] 서울중앙지검/사진=뉴스1가습기 살균제 사망 사건을 수사 ...\n",
       "16     -서울시 대학생 480명 선발 1만1759명 몰려-7월 1일 업무 투입…자치구마다 ...\n",
       "17     “박 대통령 못지킬 공약 왜했나” 대구, 용역 결과 검증 TF 구성 부산 “소음피해...\n",
       "18     백제 느낌 여행...'삼천궁녀'보다 섧고도 아리따운 부여목간으로 밝혀진 보희사(寶憙...\n",
       "19     [앵커]미국 경찰의 가혹행위에 대한 문제제기가 미국내에서 커지고 있는데요, 이런 가...\n",
       "20     이상돈 국민의당 선관위 고발사건 진상조사단장이 지난 13일 서울 여의도 국회 의원회...\n",
       "21     영국의 한 가정집, 가족들이 잠시 잠든 사이 집에 불이 났습니다. 가족들 모두 집 ...\n",
       "22     전국교직원노동조합(전교조)이 교원의 성과급 차등지급 확대에 반발해 올해도 성과급을 ...\n",
       "23     유동열 자유민주연구원 원장[연합뉴스TV 제공]자유민주연구원장, 북한연구소 학술회의서...\n",
       "24      [한겨레] “국민에 힘이 되는 국회 만들겠다”  정세균 20대 국회 전반기 국회의...\n",
       "25     [머니투데이 최경민  기자] [[the300]김부겸·박영선 고사에 추미애·송영길 2...\n",
       "26     - 무디스 경제분석 보고서“일자리 줄고 美 국제적 고립임기 끝나도 침체 계속될 것”...\n",
       "27         (서울=연합뉴스) 유현민 기자 = 현대상선은 7일 운영자금과 기타자금 등 2...\n",
       "28     <앵커>이렇게 검찰의 수사가 강도 높아지면서, 롯데그룹은 호텔롯데의 상장을 철회했습...\n",
       "29     [서울신문]외국인 자금 이탈 가속화 우려 대규모 추경 편성 압박 커질 듯“교역 규모...\n",
       "                             ...                        \n",
       "531        (샌프란시스코=연합뉴스) 임화섭 특파원 = 일상생활이나 TV 드라마에서 두 ...\n",
       "532      결혼을 앞둔 여성은 준비할 게 참 많다. 직장 업무에 결혼 준비까지 하다보면 몸...\n",
       "533    조양호 한진그룹 회장©News1travel(서울=뉴스1) 심언기 기자 = 현대상선의...\n",
       "534    - 국회 외통위 통일부 업무보고…'제재·압박 효과 있나' 질문 이어져- 與, 실효성...\n",
       "535    [머니투데이 김지민 기자] [삼성SDS, 소액주주들에게 \"인적분할 검토\" 입장 밝혀...\n",
       "536    [현장] 서울메트로 구의역 사고대책 발표장에서 민주노총 반발 [오마이뉴스 글:김경년...\n",
       "537    <앵커 멘트> 우리나라가  과학 기술 연구에는 상당한 투자를 하고 있는데, 정작 연...\n",
       "538    \"참전명예수당 20만원으로 인상돼 다행\"【서울=뉴시스】전혜정 기자 = 김무성 전 새...\n",
       "539    정부가 김해공항 확장 방안을 발표한 21일 오후 3시쯤 찾아간 경남 밀양시청. 시청...\n",
       "540    신동주 전 일본 롯데홀딩스 부회장이 지난해 10월 서울 세종대로의 한국일보 본사를 ...\n",
       "541    채무조정 성공한 현대상선용선료 협상 타결 초읽기에사채권자집회도 무난하게 통과정부 얼...\n",
       "542    [아시아경제 박혜숙 기자] 인천 '월미도' 고도제한 완화를 둘라싸고 지역사회가 찬반...\n",
       "543    <앵커>미국 남부 일대에서 이른바 '살 파먹는 박테리아'가 기승을 부리고 있습니다....\n",
       "544    울산경찰청은 9일 조직폭력배가 개입하면서 해외에 서버를 두고 운영된 불법 도박사이트...\n",
       "545    부패 혐의로 수사를 받고 있는 국제축구연맹, FIFA의 제프 블라터 전 회장 등 고...\n",
       "546    [동아일보][하반기 경제정책 방향]경기부양책 소비자 혜택은유일호 경제부총리 겸 기획...\n",
       "547    [머니투데이 김영선 기자] 로버트 카플란 미국 댈러스 연방준비은행 총재가 수개월 안...\n",
       "548    28일 (현지시간) 런던의 트라팔가 광장에서 브렉시트 결정에 항의하는 수많은 시위대...\n",
       "549    [동아일보]아주대 ‘디지털 역사학’ 학술대회역사학에서도 ‘빅데이터 혁명’이 본격적으...\n",
       "550    경찰, 모친 운전면허 도용 아들 등 입건 추돌 사고 나자 여친은 엄마 행세 들통【서...\n",
       "551    IDC 2016년 1분기 기업용 스토리지 시장 조사 결과 (지디넷코리아=임민철 기자...\n",
       "552    하행선은 오후 7시께 정체 풀려    (서울=연합뉴스) 이효석 기자 = 현충일 연휴...\n",
       "553    <앵커 멘트>서울시가 논란이 됐던 이른바 청년수당 정책을 강행하면서 포퓰리즘 논란이...\n",
       "554    【나이로비(케냐)=뉴시스】전진환 기자 = 박근혜 대통령이 31일 오후(현지시간) 나...\n",
       "555    [머니투데이 유정수 디자이너] [인천소방본부, 지난해 4월부터 올해 4월까지 접수된...\n",
       "556    [앵커]홀로 등산을 하던 여성들이 변을 당하는 사건들이, 지금 들으신 것처럼 잇따라...\n",
       "557    이 작가 측 \"추가 감정때 위작 여부 입장 밝히겠다\"【서울=뉴시스】심동준 기자 = ...\n",
       "558    (서울=뉴스1) 정수영 기자,최진모 디자이너 = 지난달 23일 소셜네트워크서비스(S...\n",
       "559     북한무수단 미사일 [ 연합뉴스 자료사진 ]     (서울=연합뉴스) 문관현 기자 ...\n",
       "560    \"87년 헌법, 어른이 아동복 입은 셈…지방자치 조항 확대해야\"    (서울=연합뉴...\n",
       "Name: content, dtype: object"
      ]
     },
     "execution_count": 90,
     "metadata": {},
     "output_type": "execute_result"
    }
   ],
   "source": [
    "X_test = X_test.reset_index(drop=True)\n",
    "X_test"
   ]
  },
  {
   "cell_type": "code",
   "execution_count": 94,
   "metadata": {
    "collapsed": false
   },
   "outputs": [
    {
     "name": "stdout",
     "output_type": "stream",
     "text": [
      "IT/과학\n",
      "사회\n",
      "정치\n"
     ]
    }
   ],
   "source": [
    "# 0:정치, 1:경제, 2:사회, 3.생활/문화, 4.세계, 5.IT/과학\n",
    "classification_dict = {\n",
    "    0:\"정치\",\n",
    "    1:\"경제\",\n",
    "    2:\"사회\",\n",
    "    3:\"생활/문화\",\n",
    "    4:\"세계\",\n",
    "    5:\"IT/과학\",\n",
    "}\n",
    "result = model.predict([ X_test[551], X_test[556], X_test[559] ])\n",
    "for category in result:\n",
    "    print(classification_dict[category])"
   ]
  },
  {
   "cell_type": "markdown",
   "metadata": {},
   "source": [
    "##### save model"
   ]
  },
  {
   "cell_type": "code",
   "execution_count": 99,
   "metadata": {
    "collapsed": false
   },
   "outputs": [],
   "source": [
    "import pickle\n",
    "\n",
    "pickle.dump(model, open(\"classification_model.dat\", \"wb\"))"
   ]
  },
  {
   "cell_type": "code",
   "execution_count": 100,
   "metadata": {
    "collapsed": false
   },
   "outputs": [],
   "source": [
    "load_model = pickle.load(open(\"classification_model.dat\", \"rb\"))"
   ]
  },
  {
   "cell_type": "code",
   "execution_count": 114,
   "metadata": {
    "collapsed": false
   },
   "outputs": [
    {
     "name": "stdout",
     "output_type": "stream",
     "text": [
      "세계\n",
      "IT/과학\n"
     ]
    }
   ],
   "source": [
    "test_str1 = \"영국 브렉시트\"\n",
    "test_str2 = \"아이폰은 IT 역사에서 길이 남을 애플 제품\"\n",
    "print( classification_dict[ load_model.predict([test_str1])[0] ] )\n",
    "print( classification_dict[ load_model.predict([test_str2])[0] ] )"
   ]
  },
  {
   "cell_type": "code",
   "execution_count": null,
   "metadata": {
    "collapsed": true
   },
   "outputs": [],
   "source": []
  }
 ],
 "metadata": {
  "kernelspec": {
   "display_name": "Python 3",
   "language": "python",
   "name": "python3"
  },
  "language_info": {
   "codemirror_mode": {
    "name": "ipython",
    "version": 3
   },
   "file_extension": ".py",
   "mimetype": "text/x-python",
   "name": "python",
   "nbconvert_exporter": "python",
   "pygments_lexer": "ipython3",
   "version": "3.5.1"
  }
 },
 "nbformat": 4,
 "nbformat_minor": 0
}
