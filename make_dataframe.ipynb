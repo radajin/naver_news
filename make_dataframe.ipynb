{
 "cells": [
  {
   "cell_type": "code",
   "execution_count": 1,
   "metadata": {
    "collapsed": true
   },
   "outputs": [],
   "source": [
    "import pandas as pd\n",
    "import pickle"
   ]
  },
  {
   "cell_type": "code",
   "execution_count": 2,
   "metadata": {
    "collapsed": true
   },
   "outputs": [],
   "source": [
    "def get_data(date):\n",
    "    \n",
    "    article_df, comment_df = \"\", \"\"\n",
    "    \n",
    "    with open(\"./article_\" + date + \".plk\", 'rb') as file:\n",
    "        article_df = pickle.load(file)\n",
    "        \n",
    "    with open(\"./comment_\" + date + \".plk\", 'rb') as file:\n",
    "        comment_df = pickle.load(file)\n",
    "        \n",
    "    return article_df, comment_df"
   ]
  },
  {
   "cell_type": "code",
   "execution_count": 3,
   "metadata": {
    "collapsed": true
   },
   "outputs": [],
   "source": [
    "# 6월 1일"
   ]
  },
  {
   "cell_type": "code",
   "execution_count": 4,
   "metadata": {
    "collapsed": false
   },
   "outputs": [
    {
     "data": {
      "text/plain": [
       "(2327, 117663)"
      ]
     },
     "execution_count": 4,
     "metadata": {},
     "output_type": "execute_result"
    }
   ],
   "source": [
    "article_df, comment_df = get_data(\"2016-06-01\")\n",
    "len(article_df), len(comment_df)"
   ]
  },
  {
   "cell_type": "code",
   "execution_count": 5,
   "metadata": {
    "collapsed": false
   },
   "outputs": [],
   "source": [
    "# make cloumn\n",
    "columns = list(article_df[\"newsid\"])"
   ]
  },
  {
   "cell_type": "code",
   "execution_count": 6,
   "metadata": {
    "collapsed": false
   },
   "outputs": [
    {
     "data": {
      "text/plain": [
       "56775"
      ]
     },
     "execution_count": 6,
     "metadata": {},
     "output_type": "execute_result"
    }
   ],
   "source": [
    "# make user id list\n",
    "user_id_list = comment_df[\"userIdNo\"].unique()\n",
    "len(user_id_list)"
   ]
  },
  {
   "cell_type": "code",
   "execution_count": 10,
   "metadata": {
    "collapsed": false
   },
   "outputs": [
    {
     "name": "stdout",
     "output_type": "stream",
     "text": [
      "Wall time: 50.4 s\n"
     ]
    }
   ],
   "source": [
    "%%time\n",
    "user_list = []\n",
    "for user_id in user_id_list:\n",
    "    tmp_dict = {\n",
    "        \"user_id\":user_id,\n",
    "        \"aid\":list(comment_df[comment_df[\"userIdNo\"] == user_id][\"aid\"])\n",
    "    }\n",
    "    \n",
    "    user_list.append(tmp_dict)\n",
    "    \n",
    "len(user_list)"
   ]
  },
  {
   "cell_type": "code",
   "execution_count": null,
   "metadata": {
    "collapsed": false
   },
   "outputs": [],
   "source": [
    "user_id = user_id_list[0]\n",
    "print(user_id)\n",
    "aid_list = list(comment_df[comment_df[\"userIdNo\"] == user_id][\"aid\"])\n",
    "aid_list"
   ]
  },
  {
   "cell_type": "code",
   "execution_count": null,
   "metadata": {
    "collapsed": true
   },
   "outputs": [],
   "source": []
  }
 ],
 "metadata": {
  "anaconda-cloud": {},
  "kernelspec": {
   "display_name": "Python [Root]",
   "language": "python",
   "name": "Python [Root]"
  },
  "language_info": {
   "codemirror_mode": {
    "name": "ipython",
    "version": 3
   },
   "file_extension": ".py",
   "mimetype": "text/x-python",
   "name": "python",
   "nbconvert_exporter": "python",
   "pygments_lexer": "ipython3",
   "version": "3.5.1"
  }
 },
 "nbformat": 4,
 "nbformat_minor": 0
}
