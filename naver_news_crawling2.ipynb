{
 "cells": [
  {
   "cell_type": "code",
   "execution_count": 1,
   "metadata": {
    "collapsed": true
   },
   "outputs": [],
   "source": [
    "import requests\n",
    "import pandas as pd\n",
    "import time\n",
    "import json\n",
    "import pickle\n",
    "\n",
    "from bs4 import BeautifulSoup"
   ]
  },
  {
   "cell_type": "markdown",
   "metadata": {},
   "source": [
    "# Article"
   ]
  },
  {
   "cell_type": "code",
   "execution_count": 2,
   "metadata": {
    "collapsed": true
   },
   "outputs": [],
   "source": [
    "category_dict = {\n",
    "    \"100\":950203, # 정치\n",
    "    \"101\":949986, # 경제\n",
    "    \"102\":949987, # 사회\n",
    "    \"103\":949988, # 생활/문화\n",
    "    \"104\":949990, # 세계\n",
    "    \"105\":949984, # IT/과학\n",
    "}"
   ]
  },
  {
   "cell_type": "code",
   "execution_count": 3,
   "metadata": {
    "collapsed": true
   },
   "outputs": [],
   "source": [
    "def last_page(category, date):\n",
    "    compnentId = category_dict[str(category)]\n",
    "    url = \"http://news.naver.com/main/mainNews.nhn?componentId=\" + str(compnentId) + \"&date=\" + date + \" 00:00:00&page=100\"\n",
    "    response = requests.get(url)\n",
    "    return response.json()[\"pagerInfo\"][\"page\"]"
   ]
  },
  {
   "cell_type": "code",
   "execution_count": 4,
   "metadata": {
    "collapsed": true
   },
   "outputs": [],
   "source": [
    "# using json\n",
    "def get_likeit(aid, oid):    \n",
    "    url = \"http://news.like.naver.com/likeIt/likeItContent.jsonp?_callback=window.__jindo2_callback._7105&serviceId=NEWS&displayId=NEWS&contentsId=ne_\" + str(oid) + \"_\" + str(aid) + \"&lang=ko&viewType=recommend\"\n",
    "    response = requests.get(url)\n",
    "    return response.text.split('likeItCount\":')[1].split(\",\")[0]\n",
    "    \n",
    "# using bs4\n",
    "def get_content(path):\n",
    "    \n",
    "    response = requests.get(path)\n",
    "    dom = BeautifulSoup(response.content, \"html.parser\")\n",
    "\n",
    "    if len(dom.select(\"#articleTitleCommentCount .lo_txt\")) == 0:\n",
    "        return 0, 0, \"-\"\n",
    "    \n",
    "    comment = dom.select_one(\"#articleTitleCommentCount .lo_txt\").text\n",
    "    content = dom.select_one(\"#articleBodyContents\").text.replace(\"\\n\",\"\").replace(\"\\r\",\"\").replace(\"\\t\",\"\")\n",
    "    aid = path.split(\"aid=\")[1]\n",
    "    oid = path.split(\"oid=\")[1].split(\"&\")[0]\n",
    "    likeit = get_likeit(aid, oid)\n",
    "    \n",
    "    return comment, likeit, content"
   ]
  },
  {
   "cell_type": "code",
   "execution_count": 5,
   "metadata": {
    "collapsed": true
   },
   "outputs": [],
   "source": [
    "def one_page_df(category, date, page):\n",
    "    \"\"\" excute time about 5 ~ 6 sec \"\"\"\n",
    "\n",
    "    url = \"http://news.naver.com/main/mainNews.nhn?componentId=\" + str(category_dict[str(category)]) + \"&date=\" + date + \" 00:00:00&page=\" + str(page)\n",
    "    response = requests.get(url)\n",
    "    article_list = response.json()[\"itemList\"]\n",
    "    \n",
    "    result_df = pd.DataFrame(columns=[\"newsid\", \"oid\", \"newspaper\", \"title\", \"link\", \"comment\", \"likeit\", \"content\", \"date\", \"category\"])\n",
    "\n",
    "    for article in article_list:\n",
    "        link = \"http://news.naver.com/main/read.nhn?mode=LSD&mid=shm&sid1=\" + str(category) + \"&oid=\" + article[\"officeId\"] + \"&aid=\" + article[\"articleId\"]        \n",
    "        comment, likeit, content = get_content(link)\n",
    "        \n",
    "        tmp_dict = {\n",
    "            \"newsid\": article[\"articleId\"],\n",
    "            \"oid\": article[\"officeId\"],\n",
    "            \"newspaper\": article[\"officeName\"],\n",
    "            \"title\": article[\"title\"],\n",
    "            \"link\": link,\n",
    "            \"comment\": comment,\n",
    "            \"likeit\": likeit,\n",
    "            \"content\": content.split(\"▶\")[0],\n",
    "            \"date\": date,\n",
    "            \"category\": str(category-100),\n",
    "        }\n",
    "        if len(tmp_dict[\"content\"]) < 100:\n",
    "            continue\n",
    "            \n",
    "        result_df.loc[len(result_df)] = tmp_dict\n",
    "        \n",
    "    return result_df"
   ]
  },
  {
   "cell_type": "code",
   "execution_count": 6,
   "metadata": {
    "collapsed": true
   },
   "outputs": [],
   "source": [
    "def one_day_df(category, date):\n",
    "    \"\"\" excute time about 60 sec / 10 page \"\"\"\n",
    "    \n",
    "    last_page_number = int(last_page(category, date))\n",
    "    \n",
    "    print(\"last page : {} / {} / {}\".format(last_page_number, category, date))\n",
    "    \n",
    "    df_list = []\n",
    "    \n",
    "    for page in range(1, last_page_number + 1):\n",
    "        df = one_page_df(category, date, page)\n",
    "        df_list.append(df)\n",
    "        time.sleep(0.5)\n",
    "        \n",
    "    return pd.concat(df_list).reset_index(drop=True)"
   ]
  },
  {
   "cell_type": "code",
   "execution_count": 7,
   "metadata": {
    "collapsed": true
   },
   "outputs": [],
   "source": [
    "def day_news(date):\n",
    "    \n",
    "    print(\"day_news : {}\".format(date))\n",
    "    \n",
    "    df_list = []\n",
    "    \n",
    "    for category in range(100, 106):\n",
    "        day_df = one_day_df(category, date)\n",
    "        df_list.append(day_df)\n",
    "    \n",
    "    return pd.concat(df_list).reset_index(drop=True)\n",
    "\n",
    "def get_monthly_article(month, startday, lastday):\n",
    "    for day in range(startday, lastday+1):\n",
    "        month = \"0\" + str(month) if 10 > month else str(month)\n",
    "        day = \"0\" + str(day) if 10 > day else str(day)\n",
    "        date = \"2016-\" + month + \"-\" + day\n",
    "        df = day_news(date)\n",
    "        df.to_csv(\"./news/\" + date + \".csv\", index=False, encoding=\"utf-8\" )"
   ]
  },
  {
   "cell_type": "markdown",
   "metadata": {},
   "source": [
    "# Comments"
   ]
  },
  {
   "cell_type": "code",
   "execution_count": null,
   "metadata": {
    "collapsed": true
   },
   "outputs": [],
   "source": [
    "headers = {\n",
    "    \"Accept\":\"*/*\",\n",
    "    \"Accept-Encoding\":\"gzip, deflate, sdch\",\n",
    "    \"Accept-Language\":\"ko-KR,ko;q=0.8,en-US;q=0.6,en;q=0.4\",\n",
    "    \"Cache-Control\":\"max-age=0\",\n",
    "    \"Connection\":\"keep-alive\",\n",
    "    \"Cookie\":\"npic=yGOyjNw7Q1cCoicfWB0wV+Tr4fwcQPxyluH+SKnsOSsV5NS2FNfNvLUSv1UqBJYBCA==; NNB=53ANW3TAEVWVO; nx_ssl=2; nid_iplevel=1; nid_inf=1295365988; NID_AUT=qctX1xOK/J8QR13lto6P3+2ewP5SxBjr4+qhVLq5pDGsWRg6lY34IJcuIP2/PB7n; NID_SES=AAABYqaaTl9N4w74I/Ek86u0fjTVd/4jnbUWV1SAuw8H0KAopRsMrf86acCTIqaQ8JX2cZS7Yj9fGO4PiWHMEzHh9NebkGJbEIWlAcpXrM8g37v9YCj+IAFlUzYfOkfMW394RLvn8ruFceiLEbCSpmUkSEtiIKVnM9+neHGEzbYgtzTqUBFwsDDVq7A5iCYAoXANuXP3qxsx49iOtqSl4fk6k4f9OwKaa5lcjnOuBAyJfH9P2d/GbOddJ81e0CDQKoqZvvNhESf/r+NQFu35fpEmEeR18hhjDSjKB5L4YJIRG1KtGXisehyM3gyEIDDFzE6MZu6Z79gzkCU8tabNi2Rd1HSqpGGJAaWtFtALYXSYbHNj7LKqYxpGIXNjCuZvjRpKefNweu5c64NI8gK3ow0Gf9IzaJgpewMeNQGuZi/qCx9mgfWnSTrMRQhYfnmYcp+mRnzNGzklOcUrPwpM16/y0yN2sI5mmiEnp1Fb9B9W3ILT; page_uid=SGE/2wpydfZsscDq0tZssssssv8-387743; _naver_usersession_=flkyahsVLGlU207+MCWYpg==\",\n",
    "    \"Host\":\"m.cafe.naver.com\",\n",
    "    \"Referer\":\"http://m.cafe.naver.com/ArticleSearchList.nhn?search.query=%EB%A7%A5%EB%B6%81&search.menuid=&search.searchBy=0&search.sortBy=sim&search.clubid=10050146\",\n",
    "    \"Upgrade-Insecure-Requests\":\"1\",\n",
    "    \"User-Agent\":\"Mozilla/5.0 (Macintosh; Intel Mac OS X 10_11_5) AppleWebKit/537.36 (KHTML, like Gecko) Chrome/50.0.2661.102 Safari/537.36\",\n",
    "}"
   ]
  },
  {
   "cell_type": "code",
   "execution_count": null,
   "metadata": {
    "collapsed": false
   },
   "outputs": [],
   "source": [
    "def get_one_article_comments(link):\n",
    "    aid = link.split(\"aid=\")[1]\n",
    "    oid = link.split(\"oid=\")[1].split(\"&\")[0]\n",
    "    category = link.split(\"sid1=\")[1].split(\"&\")[0]\n",
    "    url = \"https://apis.naver.com/commentBox/cbox/web_naver_list_jsonp.json?ticket=news&templateId=default_world&pool=cbox5&_callback=window.__cbox_jindo_callback._9381&lang=ko&country=KR&objectId=news\" + oid + \",\" + aid + \"&pageSize=10000&indexSize=10&page=1&sort=new\"\n",
    "    response = requests.get(url, headers=headers)\n",
    "    \n",
    "    result = response.text.replace(\"window.__cbox_jindo_callback._9381(\", \"\")[:-2]\n",
    "    result_json = json.loads(result)\n",
    "    comments = result_json[\"result\"][\"commentList\"]\n",
    "    \n",
    "    result_df = pd.DataFrame(columns=[\"category\",\"aid\",\"oid\",\"userIdNo\", \"userName\", \"good\", \"bad\", \"contents\", \"regTime\"])\n",
    "\n",
    "    if response.status_code != 200:\n",
    "        print(\"response fail : {}\".format(response))\n",
    "        return result_df;\n",
    "    \n",
    "    for comment in comments:\n",
    "    \n",
    "        tmp_dict = {\n",
    "            \"category\":  str(int(category)-100),\n",
    "            \"aid\": int(aid),\n",
    "            \"oid\": oid,\n",
    "            \"userIdNo\": comment[\"userIdNo\"],\n",
    "            \"userName\": comment[\"userName\"],\n",
    "            \"contents\": comment[\"contents\"],\n",
    "            \"regTime\": comment[\"regTime\"].replace(\"T\", \" \").split(\"+\")[0],\n",
    "            \"good\": comment[\"sympathyCount\"],\n",
    "            \"bad\": comment[\"antipathyCount\"],\n",
    "        }\n",
    "        \n",
    "        result_df.loc[len(result_df)] = tmp_dict\n",
    "\n",
    "    return result_df"
   ]
  },
  {
   "cell_type": "code",
   "execution_count": null,
   "metadata": {
    "collapsed": false
   },
   "outputs": [],
   "source": [
    "def get_comments(article_df):\n",
    "    \n",
    "    links = list(article_df[\"link\"])\n",
    "    \n",
    "    df_list = []\n",
    "\n",
    "    for idx, link in enumerate(links):\n",
    "        \n",
    "        if idx%100 == 0:\n",
    "            print(idx)\n",
    "        \n",
    "        comment_df = get_one_article_comments(link)\n",
    "        df_list.append(comment_df)\n",
    "        time.sleep(0.1)\n",
    "        \n",
    "    return pd.concat(df_list).reset_index(drop=True)"
   ]
  },
  {
   "cell_type": "code",
   "execution_count": null,
   "metadata": {
    "collapsed": true
   },
   "outputs": [],
   "source": [
    "def auto_cralwing(date):\n",
    "    \n",
    "    # cralwing oneday article\n",
    "    article_oneday_df = day_news(date)\n",
    "\n",
    "    # save article df\n",
    "    with open(\"./data/article_\" + date + \".plk\", 'wb') as file:\n",
    "        pickle.dump(article_oneday_df, file)\n",
    "\n",
    "    with open(\"./data/article_\" + date + \".plk\", 'rb') as file:\n",
    "        df = pickle.load(file)\n",
    "        print(\"article : {}\".format(len(df)))\n",
    "    \n",
    "    # crawling comment\n",
    "    comments_df = get_comments(article_oneday_df[:])\n",
    "\n",
    "    # save comment\n",
    "    with open(\"./data/comment_\" + date + \".plk\", 'wb') as file:\n",
    "        pickle.dump(comments_df, file)\n",
    "    \n",
    "    with open(\"./data/comment_\" + date + \".plk\", 'rb') as file:\n",
    "        df = pickle.load(file)\n",
    "        print(\"comment : {}\".format(len(df)))\n",
    "    "
   ]
  },
  {
   "cell_type": "code",
   "execution_count": null,
   "metadata": {
    "collapsed": false
   },
   "outputs": [],
   "source": [
    "%time auto_cralwing(\"2016-06-01\")"
   ]
  },
  {
   "cell_type": "code",
   "execution_count": null,
   "metadata": {
    "collapsed": false
   },
   "outputs": [],
   "source": []
  },
  {
   "cell_type": "code",
   "execution_count": null,
   "metadata": {
    "collapsed": true
   },
   "outputs": [],
   "source": []
  }
 ],
 "metadata": {
  "anaconda-cloud": {},
  "kernelspec": {
   "display_name": "Python 3",
   "language": "python",
   "name": "python3"
  },
  "language_info": {
   "codemirror_mode": {
    "name": "ipython",
    "version": 3
   },
   "file_extension": ".py",
   "mimetype": "text/x-python",
   "name": "python",
   "nbconvert_exporter": "python",
   "pygments_lexer": "ipython3",
   "version": "3.5.1"
  }
 },
 "nbformat": 4,
 "nbformat_minor": 0
}
